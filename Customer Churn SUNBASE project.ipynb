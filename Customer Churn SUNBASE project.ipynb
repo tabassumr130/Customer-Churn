{
 "cells": [
  {
   "cell_type": "markdown",
   "id": "ad279ffc",
   "metadata": {},
   "source": [
    "# Importing Libraries"
   ]
  },
  {
   "cell_type": "code",
   "execution_count": 181,
   "id": "d9132aa8",
   "metadata": {},
   "outputs": [],
   "source": [
    "import numpy as np\n",
    "import pandas as pd\n",
    "import seaborn as sns\n",
    "import matplotlib.pyplot as plt\n",
    "%matplotlib inline"
   ]
  },
  {
   "cell_type": "markdown",
   "id": "c26497d2",
   "metadata": {},
   "source": [
    "# Loading Dataset"
   ]
  },
  {
   "cell_type": "code",
   "execution_count": 2,
   "id": "f91918f9",
   "metadata": {},
   "outputs": [],
   "source": [
    "df = pd.read_csv(\"customer_churn_large_dataset.csv\")"
   ]
  },
  {
   "cell_type": "code",
   "execution_count": 3,
   "id": "d5e1972f",
   "metadata": {},
   "outputs": [
    {
     "data": {
      "text/html": [
       "<div>\n",
       "<style scoped>\n",
       "    .dataframe tbody tr th:only-of-type {\n",
       "        vertical-align: middle;\n",
       "    }\n",
       "\n",
       "    .dataframe tbody tr th {\n",
       "        vertical-align: top;\n",
       "    }\n",
       "\n",
       "    .dataframe thead th {\n",
       "        text-align: right;\n",
       "    }\n",
       "</style>\n",
       "<table border=\"1\" class=\"dataframe\">\n",
       "  <thead>\n",
       "    <tr style=\"text-align: right;\">\n",
       "      <th></th>\n",
       "      <th>CustomerID</th>\n",
       "      <th>Name</th>\n",
       "      <th>Age</th>\n",
       "      <th>Gender</th>\n",
       "      <th>Location</th>\n",
       "      <th>Subscription_Length_Months</th>\n",
       "      <th>Monthly_Bill</th>\n",
       "      <th>Total_Usage_GB</th>\n",
       "      <th>Churn</th>\n",
       "    </tr>\n",
       "  </thead>\n",
       "  <tbody>\n",
       "    <tr>\n",
       "      <th>0</th>\n",
       "      <td>1</td>\n",
       "      <td>Customer_1</td>\n",
       "      <td>63</td>\n",
       "      <td>Male</td>\n",
       "      <td>Los Angeles</td>\n",
       "      <td>17</td>\n",
       "      <td>73.36</td>\n",
       "      <td>236</td>\n",
       "      <td>0</td>\n",
       "    </tr>\n",
       "    <tr>\n",
       "      <th>1</th>\n",
       "      <td>2</td>\n",
       "      <td>Customer_2</td>\n",
       "      <td>62</td>\n",
       "      <td>Female</td>\n",
       "      <td>New York</td>\n",
       "      <td>1</td>\n",
       "      <td>48.76</td>\n",
       "      <td>172</td>\n",
       "      <td>0</td>\n",
       "    </tr>\n",
       "    <tr>\n",
       "      <th>2</th>\n",
       "      <td>3</td>\n",
       "      <td>Customer_3</td>\n",
       "      <td>24</td>\n",
       "      <td>Female</td>\n",
       "      <td>Los Angeles</td>\n",
       "      <td>5</td>\n",
       "      <td>85.47</td>\n",
       "      <td>460</td>\n",
       "      <td>0</td>\n",
       "    </tr>\n",
       "    <tr>\n",
       "      <th>3</th>\n",
       "      <td>4</td>\n",
       "      <td>Customer_4</td>\n",
       "      <td>36</td>\n",
       "      <td>Female</td>\n",
       "      <td>Miami</td>\n",
       "      <td>3</td>\n",
       "      <td>97.94</td>\n",
       "      <td>297</td>\n",
       "      <td>1</td>\n",
       "    </tr>\n",
       "    <tr>\n",
       "      <th>4</th>\n",
       "      <td>5</td>\n",
       "      <td>Customer_5</td>\n",
       "      <td>46</td>\n",
       "      <td>Female</td>\n",
       "      <td>Miami</td>\n",
       "      <td>19</td>\n",
       "      <td>58.14</td>\n",
       "      <td>266</td>\n",
       "      <td>0</td>\n",
       "    </tr>\n",
       "    <tr>\n",
       "      <th>...</th>\n",
       "      <td>...</td>\n",
       "      <td>...</td>\n",
       "      <td>...</td>\n",
       "      <td>...</td>\n",
       "      <td>...</td>\n",
       "      <td>...</td>\n",
       "      <td>...</td>\n",
       "      <td>...</td>\n",
       "      <td>...</td>\n",
       "    </tr>\n",
       "    <tr>\n",
       "      <th>99995</th>\n",
       "      <td>99996</td>\n",
       "      <td>Customer_99996</td>\n",
       "      <td>33</td>\n",
       "      <td>Male</td>\n",
       "      <td>Houston</td>\n",
       "      <td>23</td>\n",
       "      <td>55.13</td>\n",
       "      <td>226</td>\n",
       "      <td>1</td>\n",
       "    </tr>\n",
       "    <tr>\n",
       "      <th>99996</th>\n",
       "      <td>99997</td>\n",
       "      <td>Customer_99997</td>\n",
       "      <td>62</td>\n",
       "      <td>Female</td>\n",
       "      <td>New York</td>\n",
       "      <td>19</td>\n",
       "      <td>61.65</td>\n",
       "      <td>351</td>\n",
       "      <td>0</td>\n",
       "    </tr>\n",
       "    <tr>\n",
       "      <th>99997</th>\n",
       "      <td>99998</td>\n",
       "      <td>Customer_99998</td>\n",
       "      <td>64</td>\n",
       "      <td>Male</td>\n",
       "      <td>Chicago</td>\n",
       "      <td>17</td>\n",
       "      <td>96.11</td>\n",
       "      <td>251</td>\n",
       "      <td>1</td>\n",
       "    </tr>\n",
       "    <tr>\n",
       "      <th>99998</th>\n",
       "      <td>99999</td>\n",
       "      <td>Customer_99999</td>\n",
       "      <td>51</td>\n",
       "      <td>Female</td>\n",
       "      <td>New York</td>\n",
       "      <td>20</td>\n",
       "      <td>49.25</td>\n",
       "      <td>434</td>\n",
       "      <td>1</td>\n",
       "    </tr>\n",
       "    <tr>\n",
       "      <th>99999</th>\n",
       "      <td>100000</td>\n",
       "      <td>Customer_100000</td>\n",
       "      <td>27</td>\n",
       "      <td>Female</td>\n",
       "      <td>Los Angeles</td>\n",
       "      <td>19</td>\n",
       "      <td>76.57</td>\n",
       "      <td>173</td>\n",
       "      <td>1</td>\n",
       "    </tr>\n",
       "  </tbody>\n",
       "</table>\n",
       "<p>100000 rows × 9 columns</p>\n",
       "</div>"
      ],
      "text/plain": [
       "       CustomerID             Name  Age  Gender     Location  \\\n",
       "0               1       Customer_1   63    Male  Los Angeles   \n",
       "1               2       Customer_2   62  Female     New York   \n",
       "2               3       Customer_3   24  Female  Los Angeles   \n",
       "3               4       Customer_4   36  Female        Miami   \n",
       "4               5       Customer_5   46  Female        Miami   \n",
       "...           ...              ...  ...     ...          ...   \n",
       "99995       99996   Customer_99996   33    Male      Houston   \n",
       "99996       99997   Customer_99997   62  Female     New York   \n",
       "99997       99998   Customer_99998   64    Male      Chicago   \n",
       "99998       99999   Customer_99999   51  Female     New York   \n",
       "99999      100000  Customer_100000   27  Female  Los Angeles   \n",
       "\n",
       "       Subscription_Length_Months  Monthly_Bill  Total_Usage_GB  Churn  \n",
       "0                              17         73.36             236      0  \n",
       "1                               1         48.76             172      0  \n",
       "2                               5         85.47             460      0  \n",
       "3                               3         97.94             297      1  \n",
       "4                              19         58.14             266      0  \n",
       "...                           ...           ...             ...    ...  \n",
       "99995                          23         55.13             226      1  \n",
       "99996                          19         61.65             351      0  \n",
       "99997                          17         96.11             251      1  \n",
       "99998                          20         49.25             434      1  \n",
       "99999                          19         76.57             173      1  \n",
       "\n",
       "[100000 rows x 9 columns]"
      ]
     },
     "execution_count": 3,
     "metadata": {},
     "output_type": "execute_result"
    }
   ],
   "source": [
    "df"
   ]
  },
  {
   "cell_type": "markdown",
   "id": "012ba6ad",
   "metadata": {},
   "source": [
    "# EDA and Feature Engineering"
   ]
  },
  {
   "cell_type": "code",
   "execution_count": 217,
   "id": "a4ed43f8",
   "metadata": {},
   "outputs": [
    {
     "data": {
      "text/html": [
       "<div>\n",
       "<style scoped>\n",
       "    .dataframe tbody tr th:only-of-type {\n",
       "        vertical-align: middle;\n",
       "    }\n",
       "\n",
       "    .dataframe tbody tr th {\n",
       "        vertical-align: top;\n",
       "    }\n",
       "\n",
       "    .dataframe thead th {\n",
       "        text-align: right;\n",
       "    }\n",
       "</style>\n",
       "<table border=\"1\" class=\"dataframe\">\n",
       "  <thead>\n",
       "    <tr style=\"text-align: right;\">\n",
       "      <th></th>\n",
       "      <th>CustomerID</th>\n",
       "      <th>Name</th>\n",
       "      <th>Age</th>\n",
       "      <th>Location</th>\n",
       "      <th>Subscription_Length_Months</th>\n",
       "      <th>Monthly_Bill</th>\n",
       "      <th>Total_Usage_GB</th>\n",
       "      <th>Churn</th>\n",
       "      <th>GENDER</th>\n",
       "    </tr>\n",
       "  </thead>\n",
       "  <tbody>\n",
       "    <tr>\n",
       "      <th>0</th>\n",
       "      <td>1</td>\n",
       "      <td>Customer_1</td>\n",
       "      <td>63</td>\n",
       "      <td>Los Angeles</td>\n",
       "      <td>17</td>\n",
       "      <td>73.36</td>\n",
       "      <td>236</td>\n",
       "      <td>0</td>\n",
       "      <td>1</td>\n",
       "    </tr>\n",
       "    <tr>\n",
       "      <th>1</th>\n",
       "      <td>2</td>\n",
       "      <td>Customer_2</td>\n",
       "      <td>62</td>\n",
       "      <td>New York</td>\n",
       "      <td>1</td>\n",
       "      <td>48.76</td>\n",
       "      <td>172</td>\n",
       "      <td>0</td>\n",
       "      <td>0</td>\n",
       "    </tr>\n",
       "    <tr>\n",
       "      <th>2</th>\n",
       "      <td>3</td>\n",
       "      <td>Customer_3</td>\n",
       "      <td>24</td>\n",
       "      <td>Los Angeles</td>\n",
       "      <td>5</td>\n",
       "      <td>85.47</td>\n",
       "      <td>460</td>\n",
       "      <td>0</td>\n",
       "      <td>0</td>\n",
       "    </tr>\n",
       "    <tr>\n",
       "      <th>3</th>\n",
       "      <td>4</td>\n",
       "      <td>Customer_4</td>\n",
       "      <td>36</td>\n",
       "      <td>Miami</td>\n",
       "      <td>3</td>\n",
       "      <td>97.94</td>\n",
       "      <td>297</td>\n",
       "      <td>1</td>\n",
       "      <td>0</td>\n",
       "    </tr>\n",
       "    <tr>\n",
       "      <th>4</th>\n",
       "      <td>5</td>\n",
       "      <td>Customer_5</td>\n",
       "      <td>46</td>\n",
       "      <td>Miami</td>\n",
       "      <td>19</td>\n",
       "      <td>58.14</td>\n",
       "      <td>266</td>\n",
       "      <td>0</td>\n",
       "      <td>0</td>\n",
       "    </tr>\n",
       "  </tbody>\n",
       "</table>\n",
       "</div>"
      ],
      "text/plain": [
       "   CustomerID        Name  Age     Location  Subscription_Length_Months  \\\n",
       "0           1  Customer_1   63  Los Angeles                          17   \n",
       "1           2  Customer_2   62     New York                           1   \n",
       "2           3  Customer_3   24  Los Angeles                           5   \n",
       "3           4  Customer_4   36        Miami                           3   \n",
       "4           5  Customer_5   46        Miami                          19   \n",
       "\n",
       "   Monthly_Bill  Total_Usage_GB  Churn  GENDER  \n",
       "0         73.36             236      0       1  \n",
       "1         48.76             172      0       0  \n",
       "2         85.47             460      0       0  \n",
       "3         97.94             297      1       0  \n",
       "4         58.14             266      0       0  "
      ]
     },
     "execution_count": 217,
     "metadata": {},
     "output_type": "execute_result"
    }
   ],
   "source": [
    "df.head()"
   ]
  },
  {
   "cell_type": "code",
   "execution_count": 5,
   "id": "301d7e3a",
   "metadata": {},
   "outputs": [
    {
     "data": {
      "text/plain": [
       "(100000, 9)"
      ]
     },
     "execution_count": 5,
     "metadata": {},
     "output_type": "execute_result"
    }
   ],
   "source": [
    "df.shape"
   ]
  },
  {
   "cell_type": "code",
   "execution_count": 6,
   "id": "3b31d05b",
   "metadata": {},
   "outputs": [
    {
     "data": {
      "text/plain": [
       "900000"
      ]
     },
     "execution_count": 6,
     "metadata": {},
     "output_type": "execute_result"
    }
   ],
   "source": [
    "df.size"
   ]
  },
  {
   "cell_type": "code",
   "execution_count": 7,
   "id": "1b24ae6c",
   "metadata": {},
   "outputs": [
    {
     "name": "stdout",
     "output_type": "stream",
     "text": [
      "<class 'pandas.core.frame.DataFrame'>\n",
      "RangeIndex: 100000 entries, 0 to 99999\n",
      "Data columns (total 9 columns):\n",
      " #   Column                      Non-Null Count   Dtype  \n",
      "---  ------                      --------------   -----  \n",
      " 0   CustomerID                  100000 non-null  int64  \n",
      " 1   Name                        100000 non-null  object \n",
      " 2   Age                         100000 non-null  int64  \n",
      " 3   Gender                      100000 non-null  object \n",
      " 4   Location                    100000 non-null  object \n",
      " 5   Subscription_Length_Months  100000 non-null  int64  \n",
      " 6   Monthly_Bill                100000 non-null  float64\n",
      " 7   Total_Usage_GB              100000 non-null  int64  \n",
      " 8   Churn                       100000 non-null  int64  \n",
      "dtypes: float64(1), int64(5), object(3)\n",
      "memory usage: 6.9+ MB\n"
     ]
    }
   ],
   "source": [
    "df.info()"
   ]
  },
  {
   "cell_type": "code",
   "execution_count": 8,
   "id": "6b4ec12e",
   "metadata": {},
   "outputs": [
    {
     "data": {
      "text/plain": [
       "CustomerID                      int64\n",
       "Name                           object\n",
       "Age                             int64\n",
       "Gender                         object\n",
       "Location                       object\n",
       "Subscription_Length_Months      int64\n",
       "Monthly_Bill                  float64\n",
       "Total_Usage_GB                  int64\n",
       "Churn                           int64\n",
       "dtype: object"
      ]
     },
     "execution_count": 8,
     "metadata": {},
     "output_type": "execute_result"
    }
   ],
   "source": [
    "df.dtypes"
   ]
  },
  {
   "cell_type": "code",
   "execution_count": 9,
   "id": "f4e6f820",
   "metadata": {},
   "outputs": [
    {
     "data": {
      "text/plain": [
       "CustomerID                    0\n",
       "Name                          0\n",
       "Age                           0\n",
       "Gender                        0\n",
       "Location                      0\n",
       "Subscription_Length_Months    0\n",
       "Monthly_Bill                  0\n",
       "Total_Usage_GB                0\n",
       "Churn                         0\n",
       "dtype: int64"
      ]
     },
     "execution_count": 9,
     "metadata": {},
     "output_type": "execute_result"
    }
   ],
   "source": [
    "df.isnull().sum()"
   ]
  },
  {
   "cell_type": "code",
   "execution_count": 10,
   "id": "bef7e400",
   "metadata": {},
   "outputs": [
    {
     "data": {
      "text/plain": [
       "0"
      ]
     },
     "execution_count": 10,
     "metadata": {},
     "output_type": "execute_result"
    }
   ],
   "source": [
    "df.duplicated().sum()"
   ]
  },
  {
   "cell_type": "code",
   "execution_count": 11,
   "id": "5ad689f0",
   "metadata": {},
   "outputs": [
    {
     "data": {
      "text/html": [
       "<div>\n",
       "<style scoped>\n",
       "    .dataframe tbody tr th:only-of-type {\n",
       "        vertical-align: middle;\n",
       "    }\n",
       "\n",
       "    .dataframe tbody tr th {\n",
       "        vertical-align: top;\n",
       "    }\n",
       "\n",
       "    .dataframe thead th {\n",
       "        text-align: right;\n",
       "    }\n",
       "</style>\n",
       "<table border=\"1\" class=\"dataframe\">\n",
       "  <thead>\n",
       "    <tr style=\"text-align: right;\">\n",
       "      <th></th>\n",
       "      <th>CustomerID</th>\n",
       "      <th>Age</th>\n",
       "      <th>Subscription_Length_Months</th>\n",
       "      <th>Monthly_Bill</th>\n",
       "      <th>Total_Usage_GB</th>\n",
       "      <th>Churn</th>\n",
       "    </tr>\n",
       "  </thead>\n",
       "  <tbody>\n",
       "    <tr>\n",
       "      <th>count</th>\n",
       "      <td>100000.000000</td>\n",
       "      <td>100000.000000</td>\n",
       "      <td>100000.000000</td>\n",
       "      <td>100000.000000</td>\n",
       "      <td>100000.000000</td>\n",
       "      <td>100000.000000</td>\n",
       "    </tr>\n",
       "    <tr>\n",
       "      <th>mean</th>\n",
       "      <td>50000.500000</td>\n",
       "      <td>44.027020</td>\n",
       "      <td>12.490100</td>\n",
       "      <td>65.053197</td>\n",
       "      <td>274.393650</td>\n",
       "      <td>0.497790</td>\n",
       "    </tr>\n",
       "    <tr>\n",
       "      <th>std</th>\n",
       "      <td>28867.657797</td>\n",
       "      <td>15.280283</td>\n",
       "      <td>6.926461</td>\n",
       "      <td>20.230696</td>\n",
       "      <td>130.463063</td>\n",
       "      <td>0.499998</td>\n",
       "    </tr>\n",
       "    <tr>\n",
       "      <th>min</th>\n",
       "      <td>1.000000</td>\n",
       "      <td>18.000000</td>\n",
       "      <td>1.000000</td>\n",
       "      <td>30.000000</td>\n",
       "      <td>50.000000</td>\n",
       "      <td>0.000000</td>\n",
       "    </tr>\n",
       "    <tr>\n",
       "      <th>25%</th>\n",
       "      <td>25000.750000</td>\n",
       "      <td>31.000000</td>\n",
       "      <td>6.000000</td>\n",
       "      <td>47.540000</td>\n",
       "      <td>161.000000</td>\n",
       "      <td>0.000000</td>\n",
       "    </tr>\n",
       "    <tr>\n",
       "      <th>50%</th>\n",
       "      <td>50000.500000</td>\n",
       "      <td>44.000000</td>\n",
       "      <td>12.000000</td>\n",
       "      <td>65.010000</td>\n",
       "      <td>274.000000</td>\n",
       "      <td>0.000000</td>\n",
       "    </tr>\n",
       "    <tr>\n",
       "      <th>75%</th>\n",
       "      <td>75000.250000</td>\n",
       "      <td>57.000000</td>\n",
       "      <td>19.000000</td>\n",
       "      <td>82.640000</td>\n",
       "      <td>387.000000</td>\n",
       "      <td>1.000000</td>\n",
       "    </tr>\n",
       "    <tr>\n",
       "      <th>max</th>\n",
       "      <td>100000.000000</td>\n",
       "      <td>70.000000</td>\n",
       "      <td>24.000000</td>\n",
       "      <td>100.000000</td>\n",
       "      <td>500.000000</td>\n",
       "      <td>1.000000</td>\n",
       "    </tr>\n",
       "  </tbody>\n",
       "</table>\n",
       "</div>"
      ],
      "text/plain": [
       "          CustomerID            Age  Subscription_Length_Months  \\\n",
       "count  100000.000000  100000.000000               100000.000000   \n",
       "mean    50000.500000      44.027020                   12.490100   \n",
       "std     28867.657797      15.280283                    6.926461   \n",
       "min         1.000000      18.000000                    1.000000   \n",
       "25%     25000.750000      31.000000                    6.000000   \n",
       "50%     50000.500000      44.000000                   12.000000   \n",
       "75%     75000.250000      57.000000                   19.000000   \n",
       "max    100000.000000      70.000000                   24.000000   \n",
       "\n",
       "        Monthly_Bill  Total_Usage_GB          Churn  \n",
       "count  100000.000000   100000.000000  100000.000000  \n",
       "mean       65.053197      274.393650       0.497790  \n",
       "std        20.230696      130.463063       0.499998  \n",
       "min        30.000000       50.000000       0.000000  \n",
       "25%        47.540000      161.000000       0.000000  \n",
       "50%        65.010000      274.000000       0.000000  \n",
       "75%        82.640000      387.000000       1.000000  \n",
       "max       100.000000      500.000000       1.000000  "
      ]
     },
     "execution_count": 11,
     "metadata": {},
     "output_type": "execute_result"
    }
   ],
   "source": [
    "df.describe()"
   ]
  },
  {
   "cell_type": "code",
   "execution_count": 12,
   "id": "903d6ab2",
   "metadata": {},
   "outputs": [
    {
     "data": {
      "text/plain": [
       "2"
      ]
     },
     "execution_count": 12,
     "metadata": {},
     "output_type": "execute_result"
    }
   ],
   "source": [
    "df['Gender'].nunique()"
   ]
  },
  {
   "cell_type": "markdown",
   "id": "ed44ac97",
   "metadata": {},
   "source": [
    "# Data Exploration"
   ]
  },
  {
   "cell_type": "code",
   "execution_count": 13,
   "id": "c324c511",
   "metadata": {},
   "outputs": [
    {
     "data": {
      "image/png": "[encoded data removed]",
      "text/plain": [
       "<Figure size 200x200 with 1 Axes>"
      ]
     },
     "metadata": {},
     "output_type": "display_data"
    }
   ],
   "source": [
    "plt.figure(figsize=(2,2))\n",
    "ax = sns.countplot(x=df['Churn'], palette = \"Blues\", linewidth = 1)\n",
    "plt.show()"
   ]
  },
  {
   "cell_type": "code",
   "execution_count": 14,
   "id": "d33cc9f0",
   "metadata": {},
   "outputs": [
    {
     "data": {
      "text/plain": [
       "Index(['CustomerID', 'Name', 'Age', 'Gender', 'Location',\n",
       "       'Subscription_Length_Months', 'Monthly_Bill', 'Total_Usage_GB',\n",
       "       'Churn'],\n",
       "      dtype='object')"
      ]
     },
     "execution_count": 14,
     "metadata": {},
     "output_type": "execute_result"
    }
   ],
   "source": [
    "df.columns"
   ]
  },
  {
   "cell_type": "markdown",
   "id": "87a8b719",
   "metadata": {},
   "source": [
    "# Checking Outliers"
   ]
  },
  {
   "cell_type": "code",
   "execution_count": 15,
   "id": "a8d95179",
   "metadata": {},
   "outputs": [
    {
     "data": {
      "text/plain": [
       "<Axes: >"
      ]
     },
     "execution_count": 15,
     "metadata": {},
     "output_type": "execute_result"
    },
    {
     "data": {
      "image/png": "[encoded data removed]",
      "text/plain": [
       "<Figure size 500x500 with 1 Axes>"
      ]
     },
     "metadata": {},
     "output_type": "display_data"
    }
   ],
   "source": [
    "plt.figure(figsize =(5,5))\n",
    "sns.boxplot(df[['Subscription_Length_Months', 'Monthly_Bill', 'Total_Usage_GB']])"
   ]
  },
  {
   "cell_type": "code",
   "execution_count": 16,
   "id": "5189973f",
   "metadata": {},
   "outputs": [
    {
     "data": {
      "text/html": [
       "<div>\n",
       "<style scoped>\n",
       "    .dataframe tbody tr th:only-of-type {\n",
       "        vertical-align: middle;\n",
       "    }\n",
       "\n",
       "    .dataframe tbody tr th {\n",
       "        vertical-align: top;\n",
       "    }\n",
       "\n",
       "    .dataframe thead th {\n",
       "        text-align: right;\n",
       "    }\n",
       "</style>\n",
       "<table border=\"1\" class=\"dataframe\">\n",
       "  <thead>\n",
       "    <tr style=\"text-align: right;\">\n",
       "      <th></th>\n",
       "      <th>CustomerID</th>\n",
       "      <th>Name</th>\n",
       "      <th>Age</th>\n",
       "      <th>Gender</th>\n",
       "      <th>Location</th>\n",
       "      <th>Subscription_Length_Months</th>\n",
       "      <th>Monthly_Bill</th>\n",
       "      <th>Total_Usage_GB</th>\n",
       "      <th>Churn</th>\n",
       "    </tr>\n",
       "  </thead>\n",
       "  <tbody>\n",
       "    <tr>\n",
       "      <th>0</th>\n",
       "      <td>1</td>\n",
       "      <td>Customer_1</td>\n",
       "      <td>63</td>\n",
       "      <td>Male</td>\n",
       "      <td>Los Angeles</td>\n",
       "      <td>17</td>\n",
       "      <td>73.36</td>\n",
       "      <td>236</td>\n",
       "      <td>0</td>\n",
       "    </tr>\n",
       "    <tr>\n",
       "      <th>1</th>\n",
       "      <td>2</td>\n",
       "      <td>Customer_2</td>\n",
       "      <td>62</td>\n",
       "      <td>Female</td>\n",
       "      <td>New York</td>\n",
       "      <td>1</td>\n",
       "      <td>48.76</td>\n",
       "      <td>172</td>\n",
       "      <td>0</td>\n",
       "    </tr>\n",
       "    <tr>\n",
       "      <th>2</th>\n",
       "      <td>3</td>\n",
       "      <td>Customer_3</td>\n",
       "      <td>24</td>\n",
       "      <td>Female</td>\n",
       "      <td>Los Angeles</td>\n",
       "      <td>5</td>\n",
       "      <td>85.47</td>\n",
       "      <td>460</td>\n",
       "      <td>0</td>\n",
       "    </tr>\n",
       "    <tr>\n",
       "      <th>3</th>\n",
       "      <td>4</td>\n",
       "      <td>Customer_4</td>\n",
       "      <td>36</td>\n",
       "      <td>Female</td>\n",
       "      <td>Miami</td>\n",
       "      <td>3</td>\n",
       "      <td>97.94</td>\n",
       "      <td>297</td>\n",
       "      <td>1</td>\n",
       "    </tr>\n",
       "    <tr>\n",
       "      <th>4</th>\n",
       "      <td>5</td>\n",
       "      <td>Customer_5</td>\n",
       "      <td>46</td>\n",
       "      <td>Female</td>\n",
       "      <td>Miami</td>\n",
       "      <td>19</td>\n",
       "      <td>58.14</td>\n",
       "      <td>266</td>\n",
       "      <td>0</td>\n",
       "    </tr>\n",
       "  </tbody>\n",
       "</table>\n",
       "</div>"
      ],
      "text/plain": [
       "   CustomerID        Name  Age  Gender     Location  \\\n",
       "0           1  Customer_1   63    Male  Los Angeles   \n",
       "1           2  Customer_2   62  Female     New York   \n",
       "2           3  Customer_3   24  Female  Los Angeles   \n",
       "3           4  Customer_4   36  Female        Miami   \n",
       "4           5  Customer_5   46  Female        Miami   \n",
       "\n",
       "   Subscription_Length_Months  Monthly_Bill  Total_Usage_GB  Churn  \n",
       "0                          17         73.36             236      0  \n",
       "1                           1         48.76             172      0  \n",
       "2                           5         85.47             460      0  \n",
       "3                           3         97.94             297      1  \n",
       "4                          19         58.14             266      0  "
      ]
     },
     "execution_count": 16,
     "metadata": {},
     "output_type": "execute_result"
    }
   ],
   "source": [
    "df.head()"
   ]
  },
  {
   "cell_type": "code",
   "execution_count": 17,
   "id": "c294dbe6",
   "metadata": {},
   "outputs": [
    {
     "data": {
      "text/plain": [
       "Subscription_Length_Months     13.0\n",
       "Monthly_Bill                   35.1\n",
       "Total_Usage_GB                226.0\n",
       "dtype: float64"
      ]
     },
     "execution_count": 17,
     "metadata": {},
     "output_type": "execute_result"
    }
   ],
   "source": [
    "numeric_features = ['Subscription_Length_Months', 'Monthly_Bill', 'Total_Usage_GB']\n",
    "df_num = df[numeric_features]\n",
    "df_num.describe()\n",
    "\n",
    "Q1 = df_num.quantile(0.25)\n",
    "Q3 = df_num.quantile(0.75)\n",
    "IQR = Q3-Q1\n",
    "IQR"
   ]
  },
  {
   "cell_type": "code",
   "execution_count": 18,
   "id": "89d3a2bd",
   "metadata": {},
   "outputs": [
    {
     "data": {
      "text/plain": [
       "Subscription_Length_Months    False\n",
       "Monthly_Bill                  False\n",
       "Total_Usage_GB                False\n",
       "dtype: bool"
      ]
     },
     "execution_count": 18,
     "metadata": {},
     "output_type": "execute_result"
    }
   ],
   "source": [
    "((df_num < (Q1 - 1.5 * IQR)) |(df_num > (Q1 + 1.5 * IQR))).any()"
   ]
  },
  {
   "cell_type": "markdown",
   "id": "f850f849",
   "metadata": {},
   "source": [
    "# Feature Engineering"
   ]
  },
  {
   "cell_type": "code",
   "execution_count": 219,
   "id": "c338dabd",
   "metadata": {},
   "outputs": [
    {
     "data": {
      "text/html": [
       "<div>\n",
       "<style scoped>\n",
       "    .dataframe tbody tr th:only-of-type {\n",
       "        vertical-align: middle;\n",
       "    }\n",
       "\n",
       "    .dataframe tbody tr th {\n",
       "        vertical-align: top;\n",
       "    }\n",
       "\n",
       "    .dataframe thead th {\n",
       "        text-align: right;\n",
       "    }\n",
       "</style>\n",
       "<table border=\"1\" class=\"dataframe\">\n",
       "  <thead>\n",
       "    <tr style=\"text-align: right;\">\n",
       "      <th></th>\n",
       "      <th>Subscription_Length_Months</th>\n",
       "      <th>Monthly_Bill</th>\n",
       "      <th>Total_Usage_GB</th>\n",
       "    </tr>\n",
       "  </thead>\n",
       "  <tbody>\n",
       "    <tr>\n",
       "      <th>0</th>\n",
       "      <td>0.651115</td>\n",
       "      <td>0.410606</td>\n",
       "      <td>-0.294289</td>\n",
       "    </tr>\n",
       "    <tr>\n",
       "      <th>1</th>\n",
       "      <td>-1.658879</td>\n",
       "      <td>-0.805374</td>\n",
       "      <td>-0.784852</td>\n",
       "    </tr>\n",
       "    <tr>\n",
       "      <th>2</th>\n",
       "      <td>-1.081380</td>\n",
       "      <td>1.009204</td>\n",
       "      <td>1.422681</td>\n",
       "    </tr>\n",
       "    <tr>\n",
       "      <th>3</th>\n",
       "      <td>-1.370129</td>\n",
       "      <td>1.625597</td>\n",
       "      <td>0.173279</td>\n",
       "    </tr>\n",
       "    <tr>\n",
       "      <th>4</th>\n",
       "      <td>0.939864</td>\n",
       "      <td>-0.341720</td>\n",
       "      <td>-0.064338</td>\n",
       "    </tr>\n",
       "    <tr>\n",
       "      <th>...</th>\n",
       "      <td>...</td>\n",
       "      <td>...</td>\n",
       "      <td>...</td>\n",
       "    </tr>\n",
       "    <tr>\n",
       "      <th>99995</th>\n",
       "      <td>1.517363</td>\n",
       "      <td>-0.490504</td>\n",
       "      <td>-0.370939</td>\n",
       "    </tr>\n",
       "    <tr>\n",
       "      <th>99996</th>\n",
       "      <td>0.939864</td>\n",
       "      <td>-0.168220</td>\n",
       "      <td>0.587191</td>\n",
       "    </tr>\n",
       "    <tr>\n",
       "      <th>99997</th>\n",
       "      <td>0.651115</td>\n",
       "      <td>1.535140</td>\n",
       "      <td>-0.179313</td>\n",
       "    </tr>\n",
       "    <tr>\n",
       "      <th>99998</th>\n",
       "      <td>1.084239</td>\n",
       "      <td>-0.781153</td>\n",
       "      <td>1.223390</td>\n",
       "    </tr>\n",
       "    <tr>\n",
       "      <th>99999</th>\n",
       "      <td>0.939864</td>\n",
       "      <td>0.569277</td>\n",
       "      <td>-0.777187</td>\n",
       "    </tr>\n",
       "  </tbody>\n",
       "</table>\n",
       "<p>100000 rows × 3 columns</p>\n",
       "</div>"
      ],
      "text/plain": [
       "       Subscription_Length_Months  Monthly_Bill  Total_Usage_GB\n",
       "0                        0.651115      0.410606       -0.294289\n",
       "1                       -1.658879     -0.805374       -0.784852\n",
       "2                       -1.081380      1.009204        1.422681\n",
       "3                       -1.370129      1.625597        0.173279\n",
       "4                        0.939864     -0.341720       -0.064338\n",
       "...                           ...           ...             ...\n",
       "99995                    1.517363     -0.490504       -0.370939\n",
       "99996                    0.939864     -0.168220        0.587191\n",
       "99997                    0.651115      1.535140       -0.179313\n",
       "99998                    1.084239     -0.781153        1.223390\n",
       "99999                    0.939864      0.569277       -0.777187\n",
       "\n",
       "[100000 rows x 3 columns]"
      ]
     },
     "execution_count": 219,
     "metadata": {},
     "output_type": "execute_result"
    }
   ],
   "source": [
    "from scipy.stats import zscore\n",
    "df[['Subscription_Length_Months', 'Monthly_Bill', 'Total_Usage_GB']].apply(zscore)"
   ]
  },
  {
   "cell_type": "markdown",
   "id": "ab483951",
   "metadata": {},
   "source": [
    "# Label Encoding"
   ]
  },
  {
   "cell_type": "code",
   "execution_count": 19,
   "id": "b1a2ee79",
   "metadata": {},
   "outputs": [],
   "source": [
    "df['GENDER'] = np.where((df['Gender']=='Male'), 1, 0)"
   ]
  },
  {
   "cell_type": "code",
   "execution_count": 20,
   "id": "0d297ecd",
   "metadata": {},
   "outputs": [],
   "source": [
    "df.drop(columns = ['Gender'], inplace = True)"
   ]
  },
  {
   "cell_type": "code",
   "execution_count": 21,
   "id": "07af2042",
   "metadata": {},
   "outputs": [
    {
     "data": {
      "text/html": [
       "<div>\n",
       "<style scoped>\n",
       "    .dataframe tbody tr th:only-of-type {\n",
       "        vertical-align: middle;\n",
       "    }\n",
       "\n",
       "    .dataframe tbody tr th {\n",
       "        vertical-align: top;\n",
       "    }\n",
       "\n",
       "    .dataframe thead th {\n",
       "        text-align: right;\n",
       "    }\n",
       "</style>\n",
       "<table border=\"1\" class=\"dataframe\">\n",
       "  <thead>\n",
       "    <tr style=\"text-align: right;\">\n",
       "      <th></th>\n",
       "      <th>CustomerID</th>\n",
       "      <th>Name</th>\n",
       "      <th>Age</th>\n",
       "      <th>Location</th>\n",
       "      <th>Subscription_Length_Months</th>\n",
       "      <th>Monthly_Bill</th>\n",
       "      <th>Total_Usage_GB</th>\n",
       "      <th>Churn</th>\n",
       "      <th>GENDER</th>\n",
       "    </tr>\n",
       "  </thead>\n",
       "  <tbody>\n",
       "    <tr>\n",
       "      <th>0</th>\n",
       "      <td>1</td>\n",
       "      <td>Customer_1</td>\n",
       "      <td>63</td>\n",
       "      <td>Los Angeles</td>\n",
       "      <td>17</td>\n",
       "      <td>73.36</td>\n",
       "      <td>236</td>\n",
       "      <td>0</td>\n",
       "      <td>1</td>\n",
       "    </tr>\n",
       "    <tr>\n",
       "      <th>1</th>\n",
       "      <td>2</td>\n",
       "      <td>Customer_2</td>\n",
       "      <td>62</td>\n",
       "      <td>New York</td>\n",
       "      <td>1</td>\n",
       "      <td>48.76</td>\n",
       "      <td>172</td>\n",
       "      <td>0</td>\n",
       "      <td>0</td>\n",
       "    </tr>\n",
       "    <tr>\n",
       "      <th>2</th>\n",
       "      <td>3</td>\n",
       "      <td>Customer_3</td>\n",
       "      <td>24</td>\n",
       "      <td>Los Angeles</td>\n",
       "      <td>5</td>\n",
       "      <td>85.47</td>\n",
       "      <td>460</td>\n",
       "      <td>0</td>\n",
       "      <td>0</td>\n",
       "    </tr>\n",
       "    <tr>\n",
       "      <th>3</th>\n",
       "      <td>4</td>\n",
       "      <td>Customer_4</td>\n",
       "      <td>36</td>\n",
       "      <td>Miami</td>\n",
       "      <td>3</td>\n",
       "      <td>97.94</td>\n",
       "      <td>297</td>\n",
       "      <td>1</td>\n",
       "      <td>0</td>\n",
       "    </tr>\n",
       "    <tr>\n",
       "      <th>4</th>\n",
       "      <td>5</td>\n",
       "      <td>Customer_5</td>\n",
       "      <td>46</td>\n",
       "      <td>Miami</td>\n",
       "      <td>19</td>\n",
       "      <td>58.14</td>\n",
       "      <td>266</td>\n",
       "      <td>0</td>\n",
       "      <td>0</td>\n",
       "    </tr>\n",
       "  </tbody>\n",
       "</table>\n",
       "</div>"
      ],
      "text/plain": [
       "   CustomerID        Name  Age     Location  Subscription_Length_Months  \\\n",
       "0           1  Customer_1   63  Los Angeles                          17   \n",
       "1           2  Customer_2   62     New York                           1   \n",
       "2           3  Customer_3   24  Los Angeles                           5   \n",
       "3           4  Customer_4   36        Miami                           3   \n",
       "4           5  Customer_5   46        Miami                          19   \n",
       "\n",
       "   Monthly_Bill  Total_Usage_GB  Churn  GENDER  \n",
       "0         73.36             236      0       1  \n",
       "1         48.76             172      0       0  \n",
       "2         85.47             460      0       0  \n",
       "3         97.94             297      1       0  \n",
       "4         58.14             266      0       0  "
      ]
     },
     "execution_count": 21,
     "metadata": {},
     "output_type": "execute_result"
    }
   ],
   "source": [
    "df.head()"
   ]
  },
  {
   "cell_type": "code",
   "execution_count": 22,
   "id": "0078187d",
   "metadata": {},
   "outputs": [],
   "source": [
    "##Feature scaling: min-max scaling\n",
    "from sklearn.preprocessing import MinMaxScaler\n",
    "#feature_s = ['Subscription_Length_Months', 'Monthly_Bill', 'Total_Usage_GB']\n",
    "#df_feature_s = pd.DataFrame(df, columns = feature_s)\n",
    "\n",
    "#s = MinMaxScaler()\n",
    "#rescaled_feature = s.fit_transform(df_feature_s)\n",
    "\n",
    "#df_rescaled_feature = pd.DataFrame(rescaled_feature,columns = feature_s,index = df_remaining.index)\n",
    "\n",
    "#df = pd.concat([df_feature_s,rescaled_feature],axis = 1)"
   ]
  },
  {
   "cell_type": "code",
   "execution_count": 23,
   "id": "03490e1b",
   "metadata": {},
   "outputs": [
    {
     "name": "stderr",
     "output_type": "stream",
     "text": [
      "C:\\Users\\tabas\\AppData\\Local\\Temp\\ipykernel_11664\\2808033063.py:3: FutureWarning: The default value of numeric_only in DataFrame.corr is deprecated. In a future version, it will default to False. Select only valid columns or specify the value of numeric_only to silence this warning.\n",
      "  df.corr()['Churn'].sort_values(ascending = False).plot(kind ='bar',figsize = (15,5))\n"
     ]
    },
    {
     "data": {
      "text/plain": [
       "<Axes: >"
      ]
     },
     "execution_count": 23,
     "metadata": {},
     "output_type": "execute_result"
    },
    {
     "data": {
      "image/png": "[encoded data removed]",
      "text/plain": [
       "<Figure size 1500x500 with 1 Axes>"
      ]
     },
     "metadata": {},
     "output_type": "display_data"
    }
   ],
   "source": [
    "#Correlation Analysis\n",
    "plt.figure(figsize = (12,8))\n",
    "df.corr()['Churn'].sort_values(ascending = False).plot(kind ='bar',figsize = (15,5))"
   ]
  },
  {
   "cell_type": "markdown",
   "id": "7fae8b4f",
   "metadata": {},
   "source": [
    "# Train-Test-Split"
   ]
  },
  {
   "cell_type": "code",
   "execution_count": 30,
   "id": "31048490",
   "metadata": {},
   "outputs": [],
   "source": [
    "from sklearn.model_selection import train_test_split\n",
    "y = df['Churn'].values\n",
    "x = df['Monthly_Bill'].values"
   ]
  },
  {
   "cell_type": "code",
   "execution_count": 62,
   "id": "861e7fe2",
   "metadata": {},
   "outputs": [],
   "source": [
    "x = np.array(df['Monthly_Bill']).reshape(-1,1)"
   ]
  },
  {
   "cell_type": "code",
   "execution_count": 63,
   "id": "2bb80b01",
   "metadata": {},
   "outputs": [],
   "source": [
    "y = np.array(df['Churn']).reshape(-1,1)"
   ]
  },
  {
   "cell_type": "code",
   "execution_count": 64,
   "id": "fc71bdc8",
   "metadata": {},
   "outputs": [],
   "source": [
    "x_train, x_test, y_train, y_test = train_test_split(x,y,train_size = 0.80, random_state = 0)"
   ]
  },
  {
   "cell_type": "code",
   "execution_count": 65,
   "id": "53f703b6",
   "metadata": {},
   "outputs": [
    {
     "data": {
      "text/plain": [
       "(100000, 1)"
      ]
     },
     "execution_count": 65,
     "metadata": {},
     "output_type": "execute_result"
    }
   ],
   "source": [
    "x.shape"
   ]
  },
  {
   "cell_type": "code",
   "execution_count": 66,
   "id": "aa1e672a",
   "metadata": {},
   "outputs": [],
   "source": [
    "from sklearn.linear_model import LogisticRegression\n",
    "from sklearn import metrics"
   ]
  },
  {
   "cell_type": "code",
   "execution_count": 67,
   "id": "f84bbf3c",
   "metadata": {},
   "outputs": [],
   "source": [
    "log =  LogisticRegression()"
   ]
  },
  {
   "cell_type": "code",
   "execution_count": 68,
   "id": "16cdeadf",
   "metadata": {},
   "outputs": [
    {
     "name": "stderr",
     "output_type": "stream",
     "text": [
      "E:\\anaconda\\Lib\\site-packages\\sklearn\\utils\\validation.py:1143: DataConversionWarning: A column-vector y was passed when a 1d array was expected. Please change the shape of y to (n_samples, ), for example using ravel().\n",
      "  y = column_or_1d(y, warn=True)\n"
     ]
    },
    {
     "data": {
      "text/html": [
       "<style>#sk-container-id-1 {color: black;background-color: white;}#sk-container-id-1 pre{padding: 0;}#sk-container-id-1 div.sk-toggleable {background-color: white;}#sk-container-id-1 label.sk-toggleable__label {cursor: pointer;display: block;width: 100%;margin-bottom: 0;padding: 0.3em;box-sizing: border-box;text-align: center;}#sk-container-id-1 label.sk-toggleable__label-arrow:before {content: \"▸\";float: left;margin-right: 0.25em;color: #696969;}#sk-container-id-1 label.sk-toggleable__label-arrow:hover:before {color: black;}#sk-container-id-1 div.sk-estimator:hover label.sk-toggleable__label-arrow:before {color: black;}#sk-container-id-1 div.sk-toggleable__content {max-height: 0;max-width: 0;overflow: hidden;text-align: left;background-color: #f0f8ff;}#sk-container-id-1 div.sk-toggleable__content pre {margin: 0.2em;color: black;border-radius: 0.25em;background-color: #f0f8ff;}#sk-container-id-1 input.sk-toggleable__control:checked~div.sk-toggleable__content {max-height: 200px;max-width: 100%;overflow: auto;}#sk-container-id-1 input.sk-toggleable__control:checked~label.sk-toggleable__label-arrow:before {content: \"▾\";}#sk-container-id-1 div.sk-estimator input.sk-toggleable__control:checked~label.sk-toggleable__label {background-color: #d4ebff;}#sk-container-id-1 div.sk-label input.sk-toggleable__control:checked~label.sk-toggleable__label {background-color: #d4ebff;}#sk-container-id-1 input.sk-hidden--visually {border: 0;clip: rect(1px 1px 1px 1px);clip: rect(1px, 1px, 1px, 1px);height: 1px;margin: -1px;overflow: hidden;padding: 0;position: absolute;width: 1px;}#sk-container-id-1 div.sk-estimator {font-family: monospace;background-color: #f0f8ff;border: 1px dotted black;border-radius: 0.25em;box-sizing: border-box;margin-bottom: 0.5em;}#sk-container-id-1 div.sk-estimator:hover {background-color: #d4ebff;}#sk-container-id-1 div.sk-parallel-item::after {content: \"\";width: 100%;border-bottom: 1px solid gray;flex-grow: 1;}#sk-container-id-1 div.sk-label:hover label.sk-toggleable__label {background-color: #d4ebff;}#sk-container-id-1 div.sk-serial::before {content: \"\";position: absolute;border-left: 1px solid gray;box-sizing: border-box;top: 0;bottom: 0;left: 50%;z-index: 0;}#sk-container-id-1 div.sk-serial {display: flex;flex-direction: column;align-items: center;background-color: white;padding-right: 0.2em;padding-left: 0.2em;position: relative;}#sk-container-id-1 div.sk-item {position: relative;z-index: 1;}#sk-container-id-1 div.sk-parallel {display: flex;align-items: stretch;justify-content: center;background-color: white;position: relative;}#sk-container-id-1 div.sk-item::before, #sk-container-id-1 div.sk-parallel-item::before {content: \"\";position: absolute;border-left: 1px solid gray;box-sizing: border-box;top: 0;bottom: 0;left: 50%;z-index: -1;}#sk-container-id-1 div.sk-parallel-item {display: flex;flex-direction: column;z-index: 1;position: relative;background-color: white;}#sk-container-id-1 div.sk-parallel-item:first-child::after {align-self: flex-end;width: 50%;}#sk-container-id-1 div.sk-parallel-item:last-child::after {align-self: flex-start;width: 50%;}#sk-container-id-1 div.sk-parallel-item:only-child::after {width: 0;}#sk-container-id-1 div.sk-dashed-wrapped {border: 1px dashed gray;margin: 0 0.4em 0.5em 0.4em;box-sizing: border-box;padding-bottom: 0.4em;background-color: white;}#sk-container-id-1 div.sk-label label {font-family: monospace;font-weight: bold;display: inline-block;line-height: 1.2em;}#sk-container-id-1 div.sk-label-container {text-align: center;}#sk-container-id-1 div.sk-container {/* jupyter's `normalize.less` sets `[hidden] { display: none; }` but bootstrap.min.css set `[hidden] { display: none !important; }` so we also need the `!important` here to be able to override the default hidden behavior on the sphinx rendered scikit-learn.org. See: https://github.com/scikit-learn/scikit-learn/issues/21755 */display: inline-block !important;position: relative;}#sk-container-id-1 div.sk-text-repr-fallback {display: none;}</style><div id=\"sk-container-id-1\" class=\"sk-top-container\"><div class=\"sk-text-repr-fallback\"><pre>LogisticRegression()</pre><b>In a Jupyter environment, please rerun this cell to show the HTML representation or trust the notebook. <br />On GitHub, the HTML representation is unable to render, please try loading this page with nbviewer.org.</b></div><div class=\"sk-container\" hidden><div class=\"sk-item\"><div class=\"sk-estimator sk-toggleable\"><input class=\"sk-toggleable__control sk-hidden--visually\" id=\"sk-estimator-id-1\" type=\"checkbox\" checked><label for=\"sk-estimator-id-1\" class=\"sk-toggleable__label sk-toggleable__label-arrow\">LogisticRegression</label><div class=\"sk-toggleable__content\"><pre>LogisticRegression()</pre></div></div></div></div></div>"
      ],
      "text/plain": [
       "LogisticRegression()"
      ]
     },
     "execution_count": 68,
     "metadata": {},
     "output_type": "execute_result"
    }
   ],
   "source": [
    "log.fit(x_train, y_train)"
   ]
  },
  {
   "cell_type": "code",
   "execution_count": 79,
   "id": "25f3fca4",
   "metadata": {},
   "outputs": [],
   "source": [
    "y_pred= log.predict(x_test)"
   ]
  },
  {
   "cell_type": "code",
   "execution_count": 80,
   "id": "d6830c34",
   "metadata": {},
   "outputs": [
    {
     "data": {
      "text/plain": [
       "array([[10091,     0],\n",
       "       [ 9909,     0]], dtype=int64)"
      ]
     },
     "execution_count": 80,
     "metadata": {},
     "output_type": "execute_result"
    }
   ],
   "source": [
    "#confusion matrix\n",
    "from sklearn.metrics import confusion_matrix\n",
    "confusion_matrix(y_test,y_pred)"
   ]
  },
  {
   "cell_type": "code",
   "execution_count": 81,
   "id": "37339994",
   "metadata": {},
   "outputs": [
    {
     "data": {
      "text/plain": [
       "0.50455"
      ]
     },
     "execution_count": 81,
     "metadata": {},
     "output_type": "execute_result"
    }
   ],
   "source": [
    "#Accuracy_score\n",
    "metrics.accuracy_score(y_test,y_pred)"
   ]
  },
  {
   "cell_type": "code",
   "execution_count": 153,
   "id": "4279ada7",
   "metadata": {},
   "outputs": [],
   "source": [
    "#building multiple logistic reg\n",
    "x1 = df[['Subscription_Length_Months', 'Monthly_Bill', 'Total_Usage_GB']]\n",
    "y1 = df[['Churn']]"
   ]
  },
  {
   "cell_type": "code",
   "execution_count": 154,
   "id": "2fcc88d3",
   "metadata": {},
   "outputs": [],
   "source": [
    "x_train, x_test, y_train, y_test = train_test_split (x1,y1,train_size = 0.80, random_state = 0)"
   ]
  },
  {
   "cell_type": "code",
   "execution_count": 155,
   "id": "76934bb4",
   "metadata": {},
   "outputs": [],
   "source": [
    "from sklearn.linear_model import LogisticRegression\n",
    "from sklearn import metrics"
   ]
  },
  {
   "cell_type": "code",
   "execution_count": 156,
   "id": "da2cedde",
   "metadata": {},
   "outputs": [],
   "source": [
    "log1 =  LogisticRegression()"
   ]
  },
  {
   "cell_type": "code",
   "execution_count": 157,
   "id": "efc43575",
   "metadata": {},
   "outputs": [
    {
     "name": "stderr",
     "output_type": "stream",
     "text": [
      "E:\\anaconda\\Lib\\site-packages\\sklearn\\utils\\validation.py:1143: DataConversionWarning: A column-vector y was passed when a 1d array was expected. Please change the shape of y to (n_samples, ), for example using ravel().\n",
      "  y = column_or_1d(y, warn=True)\n"
     ]
    },
    {
     "data": {
      "text/html": [
       "<style>#sk-container-id-6 {color: black;background-color: white;}#sk-container-id-6 pre{padding: 0;}#sk-container-id-6 div.sk-toggleable {background-color: white;}#sk-container-id-6 label.sk-toggleable__label {cursor: pointer;display: block;width: 100%;margin-bottom: 0;padding: 0.3em;box-sizing: border-box;text-align: center;}#sk-container-id-6 label.sk-toggleable__label-arrow:before {content: \"▸\";float: left;margin-right: 0.25em;color: #696969;}#sk-container-id-6 label.sk-toggleable__label-arrow:hover:before {color: black;}#sk-container-id-6 div.sk-estimator:hover label.sk-toggleable__label-arrow:before {color: black;}#sk-container-id-6 div.sk-toggleable__content {max-height: 0;max-width: 0;overflow: hidden;text-align: left;background-color: #f0f8ff;}#sk-container-id-6 div.sk-toggleable__content pre {margin: 0.2em;color: black;border-radius: 0.25em;background-color: #f0f8ff;}#sk-container-id-6 input.sk-toggleable__control:checked~div.sk-toggleable__content {max-height: 200px;max-width: 100%;overflow: auto;}#sk-container-id-6 input.sk-toggleable__control:checked~label.sk-toggleable__label-arrow:before {content: \"▾\";}#sk-container-id-6 div.sk-estimator input.sk-toggleable__control:checked~label.sk-toggleable__label {background-color: #d4ebff;}#sk-container-id-6 div.sk-label input.sk-toggleable__control:checked~label.sk-toggleable__label {background-color: #d4ebff;}#sk-container-id-6 input.sk-hidden--visually {border: 0;clip: rect(1px 1px 1px 1px);clip: rect(1px, 1px, 1px, 1px);height: 1px;margin: -1px;overflow: hidden;padding: 0;position: absolute;width: 1px;}#sk-container-id-6 div.sk-estimator {font-family: monospace;background-color: #f0f8ff;border: 1px dotted black;border-radius: 0.25em;box-sizing: border-box;margin-bottom: 0.5em;}#sk-container-id-6 div.sk-estimator:hover {background-color: #d4ebff;}#sk-container-id-6 div.sk-parallel-item::after {content: \"\";width: 100%;border-bottom: 1px solid gray;flex-grow: 1;}#sk-container-id-6 div.sk-label:hover label.sk-toggleable__label {background-color: #d4ebff;}#sk-container-id-6 div.sk-serial::before {content: \"\";position: absolute;border-left: 1px solid gray;box-sizing: border-box;top: 0;bottom: 0;left: 50%;z-index: 0;}#sk-container-id-6 div.sk-serial {display: flex;flex-direction: column;align-items: center;background-color: white;padding-right: 0.2em;padding-left: 0.2em;position: relative;}#sk-container-id-6 div.sk-item {position: relative;z-index: 1;}#sk-container-id-6 div.sk-parallel {display: flex;align-items: stretch;justify-content: center;background-color: white;position: relative;}#sk-container-id-6 div.sk-item::before, #sk-container-id-6 div.sk-parallel-item::before {content: \"\";position: absolute;border-left: 1px solid gray;box-sizing: border-box;top: 0;bottom: 0;left: 50%;z-index: -1;}#sk-container-id-6 div.sk-parallel-item {display: flex;flex-direction: column;z-index: 1;position: relative;background-color: white;}#sk-container-id-6 div.sk-parallel-item:first-child::after {align-self: flex-end;width: 50%;}#sk-container-id-6 div.sk-parallel-item:last-child::after {align-self: flex-start;width: 50%;}#sk-container-id-6 div.sk-parallel-item:only-child::after {width: 0;}#sk-container-id-6 div.sk-dashed-wrapped {border: 1px dashed gray;margin: 0 0.4em 0.5em 0.4em;box-sizing: border-box;padding-bottom: 0.4em;background-color: white;}#sk-container-id-6 div.sk-label label {font-family: monospace;font-weight: bold;display: inline-block;line-height: 1.2em;}#sk-container-id-6 div.sk-label-container {text-align: center;}#sk-container-id-6 div.sk-container {/* jupyter's `normalize.less` sets `[hidden] { display: none; }` but bootstrap.min.css set `[hidden] { display: none !important; }` so we also need the `!important` here to be able to override the default hidden behavior on the sphinx rendered scikit-learn.org. See: https://github.com/scikit-learn/scikit-learn/issues/21755 */display: inline-block !important;position: relative;}#sk-container-id-6 div.sk-text-repr-fallback {display: none;}</style><div id=\"sk-container-id-6\" class=\"sk-top-container\"><div class=\"sk-text-repr-fallback\"><pre>LogisticRegression()</pre><b>In a Jupyter environment, please rerun this cell to show the HTML representation or trust the notebook. <br />On GitHub, the HTML representation is unable to render, please try loading this page with nbviewer.org.</b></div><div class=\"sk-container\" hidden><div class=\"sk-item\"><div class=\"sk-estimator sk-toggleable\"><input class=\"sk-toggleable__control sk-hidden--visually\" id=\"sk-estimator-id-6\" type=\"checkbox\" checked><label for=\"sk-estimator-id-6\" class=\"sk-toggleable__label sk-toggleable__label-arrow\">LogisticRegression</label><div class=\"sk-toggleable__content\"><pre>LogisticRegression()</pre></div></div></div></div></div>"
      ],
      "text/plain": [
       "LogisticRegression()"
      ]
     },
     "execution_count": 157,
     "metadata": {},
     "output_type": "execute_result"
    }
   ],
   "source": [
    "log1.fit(x_train, y_train)"
   ]
  },
  {
   "cell_type": "code",
   "execution_count": 169,
   "id": "7c5edac7",
   "metadata": {},
   "outputs": [],
   "source": [
    "y1_Pred = log1.predict(x_test)"
   ]
  },
  {
   "cell_type": "code",
   "execution_count": 170,
   "id": "91165c42",
   "metadata": {},
   "outputs": [],
   "source": [
    "from sklearn.metrics import accuracy_score\n",
    "from sklearn.metrics import confusion_matrix"
   ]
  },
  {
   "cell_type": "code",
   "execution_count": 172,
   "id": "8f2576a0",
   "metadata": {},
   "outputs": [
    {
     "name": "stdout",
     "output_type": "stream",
     "text": [
      "[[7223 2868]\n",
      " [7118 2791]]\n"
     ]
    }
   ],
   "source": [
    "#confusion_matrix\n",
    "cf_matrix1 = confusion_matrix(y_test,y1_Pred)\n",
    "print(cf_matrix1)"
   ]
  },
  {
   "cell_type": "code",
   "execution_count": 173,
   "id": "dd7b6e8b",
   "metadata": {},
   "outputs": [
    {
     "name": "stdout",
     "output_type": "stream",
     "text": [
      "7223 2868 7118 2791\n"
     ]
    }
   ],
   "source": [
    "fn,fp,tn,tp = cf_matrix1.ravel()\n",
    "print(fn,fp,tn,tp)"
   ]
  },
  {
   "cell_type": "code",
   "execution_count": 174,
   "id": "847035b2",
   "metadata": {},
   "outputs": [
    {
     "data": {
      "text/plain": [
       "<Axes: >"
      ]
     },
     "execution_count": 174,
     "metadata": {},
     "output_type": "execute_result"
    },
    {
     "data": {
      "image/png": "[encoded data removed]",
      "text/plain": [
       "<Figure size 640x480 with 2 Axes>"
      ]
     },
     "metadata": {},
     "output_type": "display_data"
    }
   ],
   "source": [
    "import seaborn as sns\n",
    "sns.heatmap(cf_matrix1, annot=True)"
   ]
  },
  {
   "cell_type": "markdown",
   "id": "5c5b4005",
   "metadata": {},
   "source": [
    "# accuracy_score"
   ]
  },
  {
   "cell_type": "code",
   "execution_count": 176,
   "id": "e108e984",
   "metadata": {},
   "outputs": [
    {
     "data": {
      "text/plain": [
       "0.5007"
      ]
     },
     "execution_count": 176,
     "metadata": {},
     "output_type": "execute_result"
    }
   ],
   "source": [
    "metrics.accuracy_score(y_test,y1_Pred)"
   ]
  },
  {
   "cell_type": "markdown",
   "id": "5b1abf13",
   "metadata": {},
   "source": [
    "# RandomForest"
   ]
  },
  {
   "cell_type": "code",
   "execution_count": 142,
   "id": "7ae85fe9",
   "metadata": {},
   "outputs": [],
   "source": [
    "x2 = df[['Subscription_Length_Months', 'Monthly_Bill', 'Total_Usage_GB']]\n",
    "y2 = df[['Churn']]"
   ]
  },
  {
   "cell_type": "code",
   "execution_count": 143,
   "id": "78516579",
   "metadata": {},
   "outputs": [],
   "source": [
    "x_train, x_test, y_train, y_test = train_test_split (x2,y2, train_size = 80, random_state = 0)\n"
   ]
  },
  {
   "cell_type": "code",
   "execution_count": 144,
   "id": "8401e5a7",
   "metadata": {},
   "outputs": [],
   "source": [
    "from sklearn.ensemble import RandomForestClassifier"
   ]
  },
  {
   "cell_type": "code",
   "execution_count": 145,
   "id": "8d432b24",
   "metadata": {},
   "outputs": [],
   "source": [
    "model = RandomForestClassifier(n_estimators=50,max_depth=10) "
   ]
  },
  {
   "cell_type": "code",
   "execution_count": 146,
   "id": "50ed0b22",
   "metadata": {},
   "outputs": [
    {
     "name": "stderr",
     "output_type": "stream",
     "text": [
      "C:\\Users\\tabas\\AppData\\Local\\Temp\\ipykernel_11664\\2716376570.py:1: DataConversionWarning: A column-vector y was passed when a 1d array was expected. Please change the shape of y to (n_samples,), for example using ravel().\n",
      "  model.fit(x_train, y_train)\n"
     ]
    },
    {
     "data": {
      "text/html": [
       "<style>#sk-container-id-5 {color: black;background-color: white;}#sk-container-id-5 pre{padding: 0;}#sk-container-id-5 div.sk-toggleable {background-color: white;}#sk-container-id-5 label.sk-toggleable__label {cursor: pointer;display: block;width: 100%;margin-bottom: 0;padding: 0.3em;box-sizing: border-box;text-align: center;}#sk-container-id-5 label.sk-toggleable__label-arrow:before {content: \"▸\";float: left;margin-right: 0.25em;color: #696969;}#sk-container-id-5 label.sk-toggleable__label-arrow:hover:before {color: black;}#sk-container-id-5 div.sk-estimator:hover label.sk-toggleable__label-arrow:before {color: black;}#sk-container-id-5 div.sk-toggleable__content {max-height: 0;max-width: 0;overflow: hidden;text-align: left;background-color: #f0f8ff;}#sk-container-id-5 div.sk-toggleable__content pre {margin: 0.2em;color: black;border-radius: 0.25em;background-color: #f0f8ff;}#sk-container-id-5 input.sk-toggleable__control:checked~div.sk-toggleable__content {max-height: 200px;max-width: 100%;overflow: auto;}#sk-container-id-5 input.sk-toggleable__control:checked~label.sk-toggleable__label-arrow:before {content: \"▾\";}#sk-container-id-5 div.sk-estimator input.sk-toggleable__control:checked~label.sk-toggleable__label {background-color: #d4ebff;}#sk-container-id-5 div.sk-label input.sk-toggleable__control:checked~label.sk-toggleable__label {background-color: #d4ebff;}#sk-container-id-5 input.sk-hidden--visually {border: 0;clip: rect(1px 1px 1px 1px);clip: rect(1px, 1px, 1px, 1px);height: 1px;margin: -1px;overflow: hidden;padding: 0;position: absolute;width: 1px;}#sk-container-id-5 div.sk-estimator {font-family: monospace;background-color: #f0f8ff;border: 1px dotted black;border-radius: 0.25em;box-sizing: border-box;margin-bottom: 0.5em;}#sk-container-id-5 div.sk-estimator:hover {background-color: #d4ebff;}#sk-container-id-5 div.sk-parallel-item::after {content: \"\";width: 100%;border-bottom: 1px solid gray;flex-grow: 1;}#sk-container-id-5 div.sk-label:hover label.sk-toggleable__label {background-color: #d4ebff;}#sk-container-id-5 div.sk-serial::before {content: \"\";position: absolute;border-left: 1px solid gray;box-sizing: border-box;top: 0;bottom: 0;left: 50%;z-index: 0;}#sk-container-id-5 div.sk-serial {display: flex;flex-direction: column;align-items: center;background-color: white;padding-right: 0.2em;padding-left: 0.2em;position: relative;}#sk-container-id-5 div.sk-item {position: relative;z-index: 1;}#sk-container-id-5 div.sk-parallel {display: flex;align-items: stretch;justify-content: center;background-color: white;position: relative;}#sk-container-id-5 div.sk-item::before, #sk-container-id-5 div.sk-parallel-item::before {content: \"\";position: absolute;border-left: 1px solid gray;box-sizing: border-box;top: 0;bottom: 0;left: 50%;z-index: -1;}#sk-container-id-5 div.sk-parallel-item {display: flex;flex-direction: column;z-index: 1;position: relative;background-color: white;}#sk-container-id-5 div.sk-parallel-item:first-child::after {align-self: flex-end;width: 50%;}#sk-container-id-5 div.sk-parallel-item:last-child::after {align-self: flex-start;width: 50%;}#sk-container-id-5 div.sk-parallel-item:only-child::after {width: 0;}#sk-container-id-5 div.sk-dashed-wrapped {border: 1px dashed gray;margin: 0 0.4em 0.5em 0.4em;box-sizing: border-box;padding-bottom: 0.4em;background-color: white;}#sk-container-id-5 div.sk-label label {font-family: monospace;font-weight: bold;display: inline-block;line-height: 1.2em;}#sk-container-id-5 div.sk-label-container {text-align: center;}#sk-container-id-5 div.sk-container {/* jupyter's `normalize.less` sets `[hidden] { display: none; }` but bootstrap.min.css set `[hidden] { display: none !important; }` so we also need the `!important` here to be able to override the default hidden behavior on the sphinx rendered scikit-learn.org. See: https://github.com/scikit-learn/scikit-learn/issues/21755 */display: inline-block !important;position: relative;}#sk-container-id-5 div.sk-text-repr-fallback {display: none;}</style><div id=\"sk-container-id-5\" class=\"sk-top-container\"><div class=\"sk-text-repr-fallback\"><pre>RandomForestClassifier(max_depth=10, n_estimators=50)</pre><b>In a Jupyter environment, please rerun this cell to show the HTML representation or trust the notebook. <br />On GitHub, the HTML representation is unable to render, please try loading this page with nbviewer.org.</b></div><div class=\"sk-container\" hidden><div class=\"sk-item\"><div class=\"sk-estimator sk-toggleable\"><input class=\"sk-toggleable__control sk-hidden--visually\" id=\"sk-estimator-id-5\" type=\"checkbox\" checked><label for=\"sk-estimator-id-5\" class=\"sk-toggleable__label sk-toggleable__label-arrow\">RandomForestClassifier</label><div class=\"sk-toggleable__content\"><pre>RandomForestClassifier(max_depth=10, n_estimators=50)</pre></div></div></div></div></div>"
      ],
      "text/plain": [
       "RandomForestClassifier(max_depth=10, n_estimators=50)"
      ]
     },
     "execution_count": 146,
     "metadata": {},
     "output_type": "execute_result"
    }
   ],
   "source": [
    "model.fit(x_train, y_train) "
   ]
  },
  {
   "cell_type": "code",
   "execution_count": 147,
   "id": "4723755b",
   "metadata": {},
   "outputs": [],
   "source": [
    "y2_pred = model.predict(x_train)"
   ]
  },
  {
   "cell_type": "code",
   "execution_count": 148,
   "id": "59673b4c",
   "metadata": {},
   "outputs": [],
   "source": [
    "from sklearn.metrics import accuracy_score\n",
    "from sklearn.metrics import confusion_matrix"
   ]
  },
  {
   "cell_type": "code",
   "execution_count": 149,
   "id": "88780d46",
   "metadata": {},
   "outputs": [
    {
     "name": "stdout",
     "output_type": "stream",
     "text": [
      "[[42  0]\n",
      " [ 0 38]]\n"
     ]
    }
   ],
   "source": [
    "cf_matrix = confusion_matrix(y_train,y2_pred)\n",
    "print(cf_matrix)"
   ]
  },
  {
   "cell_type": "code",
   "execution_count": 150,
   "id": "cde0ac93",
   "metadata": {},
   "outputs": [
    {
     "name": "stdout",
     "output_type": "stream",
     "text": [
      "42 0 0 38\n"
     ]
    }
   ],
   "source": [
    "fn,fp,tn,tp = cf_matrix.ravel()\n",
    "print(fn,fp,tn,tp)"
   ]
  },
  {
   "cell_type": "code",
   "execution_count": 151,
   "id": "c07c1c1f",
   "metadata": {},
   "outputs": [
    {
     "data": {
      "text/plain": [
       "<Axes: >"
      ]
     },
     "execution_count": 151,
     "metadata": {},
     "output_type": "execute_result"
    },
    {
     "data": {
      "image/png": "[encoded data removed]",
      "text/plain": [
       "<Figure size 640x480 with 2 Axes>"
      ]
     },
     "metadata": {},
     "output_type": "display_data"
    }
   ],
   "source": [
    "import seaborn as sns\n",
    "sns.heatmap(cf_matrix, annot=True)"
   ]
  },
  {
   "cell_type": "code",
   "execution_count": 152,
   "id": "07ae4384",
   "metadata": {},
   "outputs": [
    {
     "name": "stdout",
     "output_type": "stream",
     "text": [
      "Accuracy: 1.0\n"
     ]
    }
   ],
   "source": [
    "print(\"Accuracy:\",accuracy_score(y_train, y2_pred))"
   ]
  },
  {
   "cell_type": "code",
   "execution_count": 182,
   "id": "d2644747",
   "metadata": {},
   "outputs": [
    {
     "name": "stdout",
     "output_type": "stream",
     "text": [
      "Note: you may need to restart the kernel to use updated packages.Collecting xgboost\n",
      "  Downloading xgboost-1.7.6-py3-none-win_amd64.whl (70.9 MB)\n",
      "                                              0.0/70.9 MB ? eta -:--:--\n",
      "                                              0.0/70.9 MB 1.3 MB/s eta 0:00:56\n",
      "                                             0.1/70.9 MB 656.4 kB/s eta 0:01:48\n",
      "                                             0.1/70.9 MB 751.6 kB/s eta 0:01:35\n",
      "                                             0.2/70.9 MB 817.0 kB/s eta 0:01:27\n",
      "                                             0.2/70.9 MB 831.5 kB/s eta 0:01:26\n",
      "                                              0.3/70.9 MB 1.0 MB/s eta 0:01:11\n",
      "                                              0.4/70.9 MB 1.1 MB/s eta 0:01:05\n",
      "                                              0.5/70.9 MB 1.2 MB/s eta 0:01:01\n",
      "                                              0.5/70.9 MB 1.2 MB/s eta 0:00:59\n",
      "                                              0.5/70.9 MB 1.2 MB/s eta 0:01:00\n",
      "                                              0.7/70.9 MB 1.3 MB/s eta 0:00:54\n",
      "                                              0.7/70.9 MB 1.3 MB/s eta 0:00:54\n",
      "                                              0.8/70.9 MB 1.4 MB/s eta 0:00:51\n",
      "                                              0.9/70.9 MB 1.4 MB/s eta 0:00:51\n",
      "                                              1.0/70.9 MB 1.4 MB/s eta 0:00:52\n",
      "                                              1.0/70.9 MB 1.4 MB/s eta 0:00:52\n",
      "                                              1.1/70.9 MB 1.3 MB/s eta 0:00:53\n",
      "                                              1.2/70.9 MB 1.4 MB/s eta 0:00:52\n",
      "                                              1.3/70.9 MB 1.4 MB/s eta 0:00:50\n",
      "                                              1.3/70.9 MB 1.4 MB/s eta 0:00:51\n",
      "                                              1.4/70.9 MB 1.4 MB/s eta 0:00:49\n",
      "                                              1.5/70.9 MB 1.5 MB/s eta 0:00:48\n",
      "                                              1.6/70.9 MB 1.5 MB/s eta 0:00:48\n",
      "                                              1.7/70.9 MB 1.5 MB/s eta 0:00:47\n",
      "                                              1.8/70.9 MB 1.5 MB/s eta 0:00:47\n",
      "     -                                        1.9/70.9 MB 1.5 MB/s eta 0:00:46\n",
      "     -                                        2.0/70.9 MB 1.6 MB/s eta 0:00:44\n",
      "     -                                        2.1/70.9 MB 1.6 MB/s eta 0:00:44\n",
      "     -                                        2.2/70.9 MB 1.6 MB/s eta 0:00:44\n",
      "     -                                        2.2/70.9 MB 1.6 MB/s eta 0:00:44\n",
      "     -                                        2.4/70.9 MB 1.6 MB/s eta 0:00:43\n",
      "     -                                        2.5/70.9 MB 1.6 MB/s eta 0:00:43\n",
      "     -                                        2.5/70.9 MB 1.6 MB/s eta 0:00:43\n",
      "     -                                        2.7/70.9 MB 1.7 MB/s eta 0:00:42\n",
      "     -                                        2.7/70.9 MB 1.6 MB/s eta 0:00:42\n",
      "     -                                        2.8/70.9 MB 1.7 MB/s eta 0:00:41\n",
      "     -                                        3.0/70.9 MB 1.7 MB/s eta 0:00:41\n",
      "     -                                        3.1/70.9 MB 1.7 MB/s eta 0:00:40\n",
      "     -                                        3.2/70.9 MB 1.7 MB/s eta 0:00:40\n",
      "     -                                        3.3/70.9 MB 1.7 MB/s eta 0:00:40\n",
      "     -                                        3.4/70.9 MB 1.7 MB/s eta 0:00:39\n",
      "     -                                        3.5/70.9 MB 1.7 MB/s eta 0:00:39\n",
      "     --                                       3.6/70.9 MB 1.8 MB/s eta 0:00:39\n",
      "     --                                       3.6/70.9 MB 1.8 MB/s eta 0:00:39\n",
      "     --                                       3.7/70.9 MB 1.7 MB/s eta 0:00:39\n",
      "     --                                       3.9/70.9 MB 1.8 MB/s eta 0:00:38\n",
      "     --                                       4.0/70.9 MB 1.8 MB/s eta 0:00:38\n",
      "     --                                       4.1/70.9 MB 1.8 MB/s eta 0:00:38\n",
      "     --                                       4.2/70.9 MB 1.8 MB/s eta 0:00:38\n",
      "     --                                       4.3/70.9 MB 1.8 MB/s eta 0:00:37\n",
      "     --                                       4.4/70.9 MB 1.8 MB/s eta 0:00:37\n",
      "     --                                       4.6/70.9 MB 1.8 MB/s eta 0:00:37\n",
      "     --                                       4.7/70.9 MB 1.9 MB/s eta 0:00:36\n",
      "     --                                       4.8/70.9 MB 1.9 MB/s eta 0:00:36\n",
      "     --                                       4.9/70.9 MB 1.9 MB/s eta 0:00:35\n",
      "     --                                       5.1/70.9 MB 1.9 MB/s eta 0:00:35\n",
      "     --                                       5.2/70.9 MB 1.9 MB/s eta 0:00:35\n",
      "     --                                       5.3/70.9 MB 1.9 MB/s eta 0:00:35\n",
      "     ---                                      5.3/70.9 MB 1.9 MB/s eta 0:00:35\n",
      "     ---                                      5.3/70.9 MB 1.9 MB/s eta 0:00:35\n",
      "     ---                                      5.4/70.9 MB 1.9 MB/s eta 0:00:36\n",
      "     ---                                      5.5/70.9 MB 1.9 MB/s eta 0:00:36\n",
      "     ---                                      5.7/70.9 MB 1.9 MB/s eta 0:00:35\n",
      "     ---                                      5.8/70.9 MB 1.9 MB/s eta 0:00:35\n",
      "     ---                                      5.9/70.9 MB 1.9 MB/s eta 0:00:35\n",
      "     ---                                      6.0/70.9 MB 1.9 MB/s eta 0:00:34\n",
      "     ---                                      6.1/70.9 MB 1.9 MB/s eta 0:00:34\n",
      "     ---                                      6.2/70.9 MB 1.9 MB/s eta 0:00:34\n",
      "     ---                                      6.4/70.9 MB 1.9 MB/s eta 0:00:34\n",
      "     ---                                      6.5/70.9 MB 1.9 MB/s eta 0:00:34\n",
      "     ---                                      6.6/70.9 MB 2.0 MB/s eta 0:00:33\n",
      "     ---                                      6.7/70.9 MB 2.0 MB/s eta 0:00:33\n",
      "     ---                                      6.8/70.9 MB 2.0 MB/s eta 0:00:33\n",
      "     ---                                      6.9/70.9 MB 2.0 MB/s eta 0:00:33\n",
      "     ---                                      7.1/70.9 MB 2.0 MB/s eta 0:00:33\n",
      "     ----                                     7.2/70.9 MB 2.0 MB/s eta 0:00:33\n",
      "     ----                                     7.3/70.9 MB 2.0 MB/s eta 0:00:33\n",
      "     ----                                     7.4/70.9 MB 2.0 MB/s eta 0:00:32\n",
      "     ----                                     7.5/70.9 MB 2.0 MB/s eta 0:00:32\n",
      "     ----                                     7.6/70.9 MB 2.0 MB/s eta 0:00:32\n",
      "     ----                                     7.8/70.9 MB 2.0 MB/s eta 0:00:32\n",
      "     ----                                     7.9/70.9 MB 2.0 MB/s eta 0:00:32\n",
      "     ----                                     8.0/70.9 MB 2.0 MB/s eta 0:00:32\n",
      "     ----                                     8.1/70.9 MB 2.0 MB/s eta 0:00:31\n",
      "     ----                                     8.3/70.9 MB 2.0 MB/s eta 0:00:31\n",
      "     ----                                     8.4/70.9 MB 2.1 MB/s eta 0:00:31\n",
      "     ----                                     8.6/70.9 MB 2.1 MB/s eta 0:00:31\n",
      "     ----                                     8.7/70.9 MB 2.1 MB/s eta 0:00:31\n",
      "     ----                                     8.8/70.9 MB 2.1 MB/s eta 0:00:30\n",
      "     -----                                    8.9/70.9 MB 2.1 MB/s eta 0:00:30\n",
      "     -----                                    9.0/70.9 MB 2.1 MB/s eta 0:00:30\n",
      "     -----                                    9.1/70.9 MB 2.1 MB/s eta 0:00:30\n",
      "     -----                                    9.2/70.9 MB 2.1 MB/s eta 0:00:30\n",
      "     -----                                    9.4/70.9 MB 2.1 MB/s eta 0:00:30\n",
      "     -----                                    9.5/70.9 MB 2.1 MB/s eta 0:00:30\n",
      "     -----                                    9.5/70.9 MB 2.1 MB/s eta 0:00:30\n",
      "     -----                                    9.6/70.9 MB 2.1 MB/s eta 0:00:30\n",
      "     -----                                    9.7/70.9 MB 2.1 MB/s eta 0:00:30\n",
      "     -----                                    9.8/70.9 MB 2.1 MB/s eta 0:00:30\n",
      "     -----                                    10.0/70.9 MB 2.1 MB/s eta 0:00:29\n",
      "     -----                                    10.1/70.9 MB 2.1 MB/s eta 0:00:29\n",
      "     -----                                    10.2/70.9 MB 2.1 MB/s eta 0:00:29\n",
      "     -----                                    10.3/70.9 MB 2.1 MB/s eta 0:00:29\n",
      "     -----                                    10.4/70.9 MB 2.1 MB/s eta 0:00:29\n",
      "     -----                                    10.4/70.9 MB 2.1 MB/s eta 0:00:29\n",
      "     -----                                    10.5/70.9 MB 2.1 MB/s eta 0:00:29\n",
      "     -----                                    10.5/70.9 MB 2.1 MB/s eta 0:00:29\n",
      "     -----                                    10.6/70.9 MB 2.1 MB/s eta 0:00:29\n",
      "     ------                                   10.7/70.9 MB 2.1 MB/s eta 0:00:29\n",
      "     ------                                   10.7/70.9 MB 2.1 MB/s eta 0:00:29\n",
      "     ------                                   10.8/70.9 MB 2.1 MB/s eta 0:00:29\n",
      "     ------                                   11.0/70.9 MB 2.2 MB/s eta 0:00:28\n",
      "     ------                                   11.2/70.9 MB 2.2 MB/s eta 0:00:28\n",
      "     ------                                   11.3/70.9 MB 2.2 MB/s eta 0:00:28\n",
      "     ------                                   11.4/70.9 MB 2.2 MB/s eta 0:00:27\n",
      "     ------                                   11.5/70.9 MB 2.2 MB/s eta 0:00:27\n",
      "     ------                                   11.6/70.9 MB 2.2 MB/s eta 0:00:27\n",
      "     ------                                   11.8/70.9 MB 2.3 MB/s eta 0:00:27\n",
      "     ------                                   11.9/70.9 MB 2.3 MB/s eta 0:00:27\n",
      "     ------                                   12.0/70.9 MB 2.3 MB/s eta 0:00:26\n",
      "     ------                                   12.1/70.9 MB 2.3 MB/s eta 0:00:26\n",
      "     ------                                   12.2/70.9 MB 2.3 MB/s eta 0:00:26\n",
      "     ------                                   12.3/70.9 MB 2.3 MB/s eta 0:00:26\n",
      "     -------                                  12.4/70.9 MB 2.3 MB/s eta 0:00:26\n",
      "     -------                                  12.5/70.9 MB 2.3 MB/s eta 0:00:26\n",
      "     -------                                  12.6/70.9 MB 2.3 MB/s eta 0:00:26\n",
      "     -------                                  12.7/70.9 MB 2.3 MB/s eta 0:00:26\n",
      "     -------                                  12.9/70.9 MB 2.3 MB/s eta 0:00:26\n",
      "     -------                                  13.0/70.9 MB 2.3 MB/s eta 0:00:26\n",
      "     -------                                  13.1/70.9 MB 2.3 MB/s eta 0:00:26\n",
      "     -------                                  13.2/70.9 MB 2.3 MB/s eta 0:00:26\n",
      "     -------                                  13.3/70.9 MB 2.3 MB/s eta 0:00:26\n",
      "     -------                                  13.4/70.9 MB 2.3 MB/s eta 0:00:26\n",
      "     -------                                  13.5/70.9 MB 2.3 MB/s eta 0:00:26\n",
      "     -------                                  13.7/70.9 MB 2.3 MB/s eta 0:00:25\n",
      "     -------                                  13.8/70.9 MB 2.3 MB/s eta 0:00:25\n",
      "     -------                                  13.9/70.9 MB 2.3 MB/s eta 0:00:25\n",
      "     -------                                  14.0/70.9 MB 2.3 MB/s eta 0:00:25\n",
      "     -------                                  14.1/70.9 MB 2.3 MB/s eta 0:00:25\n",
      "     --------                                 14.2/70.9 MB 2.3 MB/s eta 0:00:25\n",
      "     --------                                 14.3/70.9 MB 2.3 MB/s eta 0:00:25\n",
      "     --------                                 14.3/70.9 MB 2.3 MB/s eta 0:00:25\n",
      "     --------                                 14.4/70.9 MB 2.3 MB/s eta 0:00:25\n",
      "     --------                                 14.4/70.9 MB 2.3 MB/s eta 0:00:25\n",
      "     --------                                 14.5/70.9 MB 2.2 MB/s eta 0:00:26\n",
      "     --------                                 14.6/70.9 MB 2.2 MB/s eta 0:00:26\n",
      "     --------                                 14.6/70.9 MB 2.2 MB/s eta 0:00:26\n",
      "     --------                                 14.7/70.9 MB 2.2 MB/s eta 0:00:26\n",
      "     --------                                 14.8/70.9 MB 2.2 MB/s eta 0:00:26\n",
      "     --------                                 14.9/70.9 MB 2.2 MB/s eta 0:00:26\n",
      "     --------                                 15.0/70.9 MB 2.2 MB/s eta 0:00:26\n",
      "     --------                                 15.0/70.9 MB 2.2 MB/s eta 0:00:26\n",
      "     --------                                 15.1/70.9 MB 2.2 MB/s eta 0:00:26\n",
      "     --------                                 15.1/70.9 MB 2.2 MB/s eta 0:00:26\n",
      "     --------                                 15.3/70.9 MB 2.2 MB/s eta 0:00:26\n",
      "     --------                                 15.4/70.9 MB 2.2 MB/s eta 0:00:26\n",
      "     --------                                 15.5/70.9 MB 2.2 MB/s eta 0:00:26\n",
      "     --------                                 15.6/70.9 MB 2.2 MB/s eta 0:00:26\n",
      "     --------                                 15.7/70.9 MB 2.2 MB/s eta 0:00:26\n",
      "     --------                                 15.8/70.9 MB 2.2 MB/s eta 0:00:26\n",
      "     --------                                 15.9/70.9 MB 2.2 MB/s eta 0:00:26\n",
      "     ---------                                16.0/70.9 MB 2.2 MB/s eta 0:00:26\n",
      "     ---------                                16.1/70.9 MB 2.2 MB/s eta 0:00:26\n",
      "     ---------                                16.3/70.9 MB 2.2 MB/s eta 0:00:25\n",
      "     ---------                                16.5/70.9 MB 2.2 MB/s eta 0:00:25\n",
      "     ---------                                16.6/70.9 MB 2.2 MB/s eta 0:00:25\n",
      "     ---------                                16.8/70.9 MB 2.2 MB/s eta 0:00:25\n",
      "     ---------                                16.9/70.9 MB 2.2 MB/s eta 0:00:25\n",
      "     ---------                                17.0/70.9 MB 2.2 MB/s eta 0:00:25\n",
      "     ---------                                17.2/70.9 MB 2.2 MB/s eta 0:00:24\n",
      "     ---------                                17.3/70.9 MB 2.2 MB/s eta 0:00:24\n",
      "     ---------                                17.5/70.9 MB 2.3 MB/s eta 0:00:24\n",
      "     ---------                                17.6/70.9 MB 2.3 MB/s eta 0:00:24\n",
      "     ----------                               17.7/70.9 MB 2.3 MB/s eta 0:00:24\n",
      "     ----------                               17.8/70.9 MB 2.3 MB/s eta 0:00:24\n",
      "     ----------                               17.9/70.9 MB 2.2 MB/s eta 0:00:24\n",
      "     ----------                               18.2/70.9 MB 2.3 MB/s eta 0:00:24\n",
      "     ----------                               18.4/70.9 MB 2.3 MB/s eta 0:00:23\n",
      "     ----------                               18.6/70.9 MB 2.3 MB/s eta 0:00:23\n",
      "     ----------                               18.7/70.9 MB 2.3 MB/s eta 0:00:23\n",
      "     ----------                               18.9/70.9 MB 2.3 MB/s eta 0:00:23\n",
      "     ----------                               19.1/70.9 MB 2.3 MB/s eta 0:00:23\n",
      "     ----------                               19.2/70.9 MB 2.3 MB/s eta 0:00:23\n",
      "     ----------                               19.4/70.9 MB 2.3 MB/s eta 0:00:23\n",
      "     ----------                               19.5/70.9 MB 2.3 MB/s eta 0:00:22\n",
      "     -----------                              19.7/70.9 MB 2.4 MB/s eta 0:00:22\n",
      "     -----------                              19.8/70.9 MB 2.4 MB/s eta 0:00:22\n",
      "     -----------                              20.0/70.9 MB 2.4 MB/s eta 0:00:22\n",
      "     -----------                              20.2/70.9 MB 2.4 MB/s eta 0:00:22\n",
      "     -----------                              20.4/70.9 MB 2.4 MB/s eta 0:00:21\n",
      "     -----------                              20.5/70.9 MB 2.5 MB/s eta 0:00:21\n",
      "     -----------                              20.7/70.9 MB 2.5 MB/s eta 0:00:20\n",
      "     -----------                              20.9/70.9 MB 2.6 MB/s eta 0:00:20\n",
      "     -----------                              21.1/70.9 MB 2.6 MB/s eta 0:00:20\n",
      "     -----------                              21.2/70.9 MB 2.6 MB/s eta 0:00:20\n",
      "     ------------                             21.4/70.9 MB 2.6 MB/s eta 0:00:20\n",
      "     ------------                             21.6/70.9 MB 2.6 MB/s eta 0:00:19\n",
      "     ------------                             21.8/70.9 MB 2.6 MB/s eta 0:00:19\n",
      "     ------------                             22.0/70.9 MB 2.7 MB/s eta 0:00:19\n",
      "     ------------                             22.1/70.9 MB 2.7 MB/s eta 0:00:19\n",
      "     ------------                             22.3/70.9 MB 2.7 MB/s eta 0:00:19\n",
      "     ------------                             22.5/70.9 MB 2.7 MB/s eta 0:00:18\n",
      "     ------------                             22.7/70.9 MB 2.7 MB/s eta 0:00:18\n",
      "     ------------                             22.8/70.9 MB 2.8 MB/s eta 0:00:18\n",
      "     ------------                             23.0/70.9 MB 2.8 MB/s eta 0:00:18\n",
      "     -------------                            23.1/70.9 MB 2.8 MB/s eta 0:00:18\n",
      "     -------------                            23.3/70.9 MB 2.8 MB/s eta 0:00:18\n",
      "     -------------                            23.4/70.9 MB 2.8 MB/s eta 0:00:17\n",
      "     -------------                            23.6/70.9 MB 2.8 MB/s eta 0:00:17\n",
      "     -------------                            23.7/70.9 MB 2.8 MB/s eta 0:00:17\n",
      "     -------------                            23.8/70.9 MB 2.8 MB/s eta 0:00:17\n",
      "     -------------                            23.9/70.9 MB 2.8 MB/s eta 0:00:17\n",
      "     -------------                            24.0/70.9 MB 2.8 MB/s eta 0:00:17\n",
      "     -------------                            24.1/70.9 MB 2.8 MB/s eta 0:00:17\n",
      "     -------------                            24.2/70.9 MB 2.8 MB/s eta 0:00:17\n",
      "     -------------                            24.3/70.9 MB 2.8 MB/s eta 0:00:17\n",
      "     -------------                            24.4/70.9 MB 2.8 MB/s eta 0:00:17\n",
      "     -------------                            24.5/70.9 MB 2.8 MB/s eta 0:00:17\n",
      "     -------------                            24.7/70.9 MB 2.9 MB/s eta 0:00:17\n",
      "     --------------                           24.8/70.9 MB 2.9 MB/s eta 0:00:16\n",
      "     --------------                           25.0/70.9 MB 3.0 MB/s eta 0:00:16\n",
      "     --------------                           25.1/70.9 MB 3.0 MB/s eta 0:00:16\n",
      "     --------------                           25.3/70.9 MB 3.0 MB/s eta 0:00:16\n",
      "     --------------                           25.4/70.9 MB 3.1 MB/s eta 0:00:15\n",
      "     --------------                           25.5/70.9 MB 3.1 MB/s eta 0:00:15\n",
      "     --------------                           25.7/70.9 MB 3.1 MB/s eta 0:00:15\n",
      "     --------------                           25.8/70.9 MB 3.2 MB/s eta 0:00:15\n",
      "     --------------                           26.0/70.9 MB 3.2 MB/s eta 0:00:15\n",
      "     --------------                           26.1/70.9 MB 3.2 MB/s eta 0:00:15\n",
      "     --------------                           26.2/70.9 MB 3.2 MB/s eta 0:00:14\n",
      "     --------------                           26.4/70.9 MB 3.2 MB/s eta 0:00:14\n",
      "     --------------                           26.6/70.9 MB 3.2 MB/s eta 0:00:14\n",
      "     ---------------                          26.7/70.9 MB 3.2 MB/s eta 0:00:14\n",
      "     ---------------                          26.8/70.9 MB 3.2 MB/s eta 0:00:14\n",
      "     ---------------                          27.0/70.9 MB 3.2 MB/s eta 0:00:14\n",
      "     ---------------                          27.2/70.9 MB 3.2 MB/s eta 0:00:14\n",
      "     ---------------                          27.4/70.9 MB 3.2 MB/s eta 0:00:14\n",
      "     ---------------                          27.6/70.9 MB 3.2 MB/s eta 0:00:14\n",
      "     ---------------                          27.8/70.9 MB 3.2 MB/s eta 0:00:14\n",
      "     ---------------                          27.9/70.9 MB 3.3 MB/s eta 0:00:14\n",
      "     ---------------                          28.0/70.9 MB 3.3 MB/s eta 0:00:14\n",
      "     ---------------                          28.1/70.9 MB 3.3 MB/s eta 0:00:14\n",
      "     ----------------                         28.4/70.9 MB 3.3 MB/s eta 0:00:13\n",
      "     ----------------                         28.6/70.9 MB 3.3 MB/s eta 0:00:13\n",
      "     ----------------                         28.8/70.9 MB 3.3 MB/s eta 0:00:13\n",
      "     ----------------                         28.9/70.9 MB 3.3 MB/s eta 0:00:13\n",
      "     ----------------                         29.1/70.9 MB 3.3 MB/s eta 0:00:13\n",
      "     ----------------                         29.3/70.9 MB 3.3 MB/s eta 0:00:13\n",
      "     ----------------                         29.4/70.9 MB 3.3 MB/s eta 0:00:13\n",
      "     ----------------                         29.5/70.9 MB 3.2 MB/s eta 0:00:13\n",
      "     ----------------                         29.6/70.9 MB 3.2 MB/s eta 0:00:13\n",
      "     ----------------                         29.7/70.9 MB 3.2 MB/s eta 0:00:13\n",
      "     ----------------                         29.8/70.9 MB 3.2 MB/s eta 0:00:13\n",
      "     ----------------                         30.0/70.9 MB 3.2 MB/s eta 0:00:13\n",
      "     ----------------                         30.1/70.9 MB 3.2 MB/s eta 0:00:13\n",
      "     -----------------                        30.2/70.9 MB 3.2 MB/s eta 0:00:13\n",
      "     -----------------                        30.3/70.9 MB 3.2 MB/s eta 0:00:13\n",
      "     -----------------                        30.4/70.9 MB 3.1 MB/s eta 0:00:13\n",
      "     -----------------                        30.4/70.9 MB 3.1 MB/s eta 0:00:14\n",
      "     -----------------                        30.5/70.9 MB 3.1 MB/s eta 0:00:14\n",
      "     -----------------                        30.6/70.9 MB 3.1 MB/s eta 0:00:14\n",
      "     -----------------                        30.7/70.9 MB 3.0 MB/s eta 0:00:14\n",
      "     -----------------                        30.8/70.9 MB 3.0 MB/s eta 0:00:14\n",
      "     -----------------                        30.8/70.9 MB 3.0 MB/s eta 0:00:14\n",
      "     -----------------                        30.9/70.9 MB 2.9 MB/s eta 0:00:14\n",
      "     -----------------                        31.0/70.9 MB 2.9 MB/s eta 0:00:14\n",
      "     -----------------                        31.1/70.9 MB 2.9 MB/s eta 0:00:14\n",
      "     -----------------                        31.2/70.9 MB 2.9 MB/s eta 0:00:14\n",
      "     -----------------                        31.3/70.9 MB 2.9 MB/s eta 0:00:14\n",
      "     -----------------                        31.3/70.9 MB 2.8 MB/s eta 0:00:14\n",
      "     -----------------                        31.4/70.9 MB 2.8 MB/s eta 0:00:14\n",
      "     -----------------                        31.5/70.9 MB 2.8 MB/s eta 0:00:15\n",
      "     -----------------                        31.6/70.9 MB 2.8 MB/s eta 0:00:15\n",
      "     -----------------                        31.8/70.9 MB 2.8 MB/s eta 0:00:15\n",
      "     -----------------                        31.9/70.9 MB 2.8 MB/s eta 0:00:15\n",
      "     ------------------                       32.0/70.9 MB 2.8 MB/s eta 0:00:15\n",
      "     ------------------                       32.1/70.9 MB 2.7 MB/s eta 0:00:15\n",
      "     ------------------                       32.2/70.9 MB 2.7 MB/s eta 0:00:15\n",
      "     ------------------                       32.3/70.9 MB 2.7 MB/s eta 0:00:15\n",
      "     ------------------                       32.4/70.9 MB 2.7 MB/s eta 0:00:15\n",
      "     ------------------                       32.4/70.9 MB 2.7 MB/s eta 0:00:15\n",
      "     ------------------                       32.5/70.9 MB 2.7 MB/s eta 0:00:15\n",
      "     ------------------                       32.6/70.9 MB 2.7 MB/s eta 0:00:15\n",
      "     ------------------                       32.7/70.9 MB 2.6 MB/s eta 0:00:15\n",
      "     ------------------                       32.9/70.9 MB 2.6 MB/s eta 0:00:15\n",
      "     ------------------                       33.1/70.9 MB 2.6 MB/s eta 0:00:15\n",
      "     ------------------                       33.2/70.9 MB 2.6 MB/s eta 0:00:15\n",
      "     ------------------                       33.4/70.9 MB 2.6 MB/s eta 0:00:15\n",
      "     ------------------                       33.5/70.9 MB 2.6 MB/s eta 0:00:15\n",
      "     ------------------                       33.6/70.9 MB 2.6 MB/s eta 0:00:15\n",
      "     -------------------                      33.8/70.9 MB 2.6 MB/s eta 0:00:15\n",
      "     -------------------                      33.9/70.9 MB 2.6 MB/s eta 0:00:15\n",
      "     -------------------                      34.0/70.9 MB 2.6 MB/s eta 0:00:15\n",
      "     -------------------                      34.1/70.9 MB 2.6 MB/s eta 0:00:15\n",
      "     -------------------                      34.3/70.9 MB 2.6 MB/s eta 0:00:14\n",
      "     -------------------                      34.4/70.9 MB 2.7 MB/s eta 0:00:14\n",
      "     -------------------                      34.6/70.9 MB 2.7 MB/s eta 0:00:14\n",
      "     -------------------                      34.7/70.9 MB 2.7 MB/s eta 0:00:14\n",
      "     -------------------                      34.8/70.9 MB 2.7 MB/s eta 0:00:14\n",
      "     -------------------                      35.0/70.9 MB 2.7 MB/s eta 0:00:14\n",
      "     -------------------                      35.1/70.9 MB 2.7 MB/s eta 0:00:14\n",
      "     -------------------                      35.1/70.9 MB 2.6 MB/s eta 0:00:14\n",
      "     -------------------                      35.2/70.9 MB 2.6 MB/s eta 0:00:14\n",
      "     -------------------                      35.4/70.9 MB 2.6 MB/s eta 0:00:14\n",
      "     --------------------                     35.5/70.9 MB 2.6 MB/s eta 0:00:14\n",
      "     --------------------                     35.6/70.9 MB 2.7 MB/s eta 0:00:14\n",
      "     --------------------                     35.6/70.9 MB 2.7 MB/s eta 0:00:14\n",
      "     --------------------                     36.0/70.9 MB 2.6 MB/s eta 0:00:14\n",
      "     --------------------                     36.2/70.9 MB 2.7 MB/s eta 0:00:14\n",
      "     --------------------                     36.3/70.9 MB 2.7 MB/s eta 0:00:14\n",
      "     --------------------                     36.5/70.9 MB 2.7 MB/s eta 0:00:13\n",
      "     --------------------                     36.6/70.9 MB 2.7 MB/s eta 0:00:13\n",
      "     --------------------                     36.8/70.9 MB 2.7 MB/s eta 0:00:13\n",
      "     --------------------                     36.9/70.9 MB 2.7 MB/s eta 0:00:13\n",
      "     --------------------                     37.0/70.9 MB 2.6 MB/s eta 0:00:13\n",
      "     --------------------                     37.2/70.9 MB 2.7 MB/s eta 0:00:13\n",
      "     ---------------------                    37.3/70.9 MB 2.6 MB/s eta 0:00:13\n",
      "     ---------------------                    37.5/70.9 MB 2.6 MB/s eta 0:00:13\n",
      "     ---------------------                    37.7/70.9 MB 2.6 MB/s eta 0:00:13\n",
      "     ---------------------                    37.8/70.9 MB 2.6 MB/s eta 0:00:13\n",
      "     ---------------------                    38.0/70.9 MB 2.6 MB/s eta 0:00:13\n",
      "     ---------------------                    38.1/70.9 MB 2.6 MB/s eta 0:00:13\n",
      "     ---------------------                    38.3/70.9 MB 2.7 MB/s eta 0:00:13\n",
      "     ---------------------                    38.5/70.9 MB 2.6 MB/s eta 0:00:13\n",
      "     ---------------------                    38.6/70.9 MB 2.6 MB/s eta 0:00:13\n",
      "     ---------------------                    38.8/70.9 MB 2.6 MB/s eta 0:00:13\n",
      "     ---------------------                    39.0/70.9 MB 2.6 MB/s eta 0:00:13\n",
      "     ----------------------                   39.1/70.9 MB 2.6 MB/s eta 0:00:13\n",
      "     ----------------------                   39.2/70.9 MB 2.6 MB/s eta 0:00:13\n",
      "     ----------------------                   39.3/70.9 MB 2.6 MB/s eta 0:00:13\n",
      "     ----------------------                   39.4/70.9 MB 2.6 MB/s eta 0:00:13\n",
      "     ----------------------                   39.5/70.9 MB 2.6 MB/s eta 0:00:13\n",
      "     ----------------------                   39.7/70.9 MB 2.6 MB/s eta 0:00:13\n",
      "     ----------------------                   39.8/70.9 MB 2.6 MB/s eta 0:00:13\n",
      "     ----------------------                   39.8/70.9 MB 2.6 MB/s eta 0:00:13\n",
      "     ----------------------                   39.8/70.9 MB 2.6 MB/s eta 0:00:13\n",
      "     ----------------------                   39.9/70.9 MB 2.5 MB/s eta 0:00:13\n",
      "     ----------------------                   40.0/70.9 MB 2.5 MB/s eta 0:00:13\n",
      "     ----------------------                   40.2/70.9 MB 2.5 MB/s eta 0:00:13\n",
      "     ----------------------                   40.4/70.9 MB 2.5 MB/s eta 0:00:13\n",
      "     ----------------------                   40.5/70.9 MB 2.5 MB/s eta 0:00:13\n",
      "     ----------------------                   40.6/70.9 MB 2.6 MB/s eta 0:00:12\n",
      "     ----------------------                   40.8/70.9 MB 2.6 MB/s eta 0:00:12\n",
      "     -----------------------                  41.0/70.9 MB 2.6 MB/s eta 0:00:12\n",
      "     -----------------------                  41.2/70.9 MB 2.7 MB/s eta 0:00:11\n",
      "     -----------------------                  41.4/70.9 MB 2.7 MB/s eta 0:00:11\n",
      "     -----------------------                  41.5/70.9 MB 2.8 MB/s eta 0:00:11\n",
      "     -----------------------                  41.6/70.9 MB 2.8 MB/s eta 0:00:11\n",
      "     -----------------------                  41.8/70.9 MB 2.8 MB/s eta 0:00:11\n",
      "     -----------------------                  41.8/70.9 MB 2.8 MB/s eta 0:00:11\n",
      "     -----------------------                  41.9/70.9 MB 2.8 MB/s eta 0:00:11\n",
      "     -----------------------                  42.0/70.9 MB 2.8 MB/s eta 0:00:11\n",
      "     -----------------------                  42.1/70.9 MB 2.8 MB/s eta 0:00:11\n",
      "     -----------------------                  42.1/70.9 MB 2.7 MB/s eta 0:00:11\n",
      "     -----------------------                  42.2/70.9 MB 2.7 MB/s eta 0:00:11\n",
      "     -----------------------                  42.2/70.9 MB 2.7 MB/s eta 0:00:11\n",
      "     -----------------------                  42.3/70.9 MB 2.7 MB/s eta 0:00:11\n",
      "     -----------------------                  42.4/70.9 MB 2.7 MB/s eta 0:00:11\n",
      "     -----------------------                  42.5/70.9 MB 2.7 MB/s eta 0:00:11\n",
      "     -----------------------                  42.5/70.9 MB 2.7 MB/s eta 0:00:11\n",
      "     ------------------------                 42.7/70.9 MB 2.7 MB/s eta 0:00:11\n",
      "     ------------------------                 42.7/70.9 MB 2.7 MB/s eta 0:00:11\n",
      "     ------------------------                 42.8/70.9 MB 2.7 MB/s eta 0:00:11\n",
      "     ------------------------                 42.8/70.9 MB 2.6 MB/s eta 0:00:11\n",
      "     ------------------------                 42.8/70.9 MB 2.6 MB/s eta 0:00:11\n",
      "     ------------------------                 42.9/70.9 MB 2.6 MB/s eta 0:00:11\n",
      "     ------------------------                 42.9/70.9 MB 2.6 MB/s eta 0:00:11\n",
      "     ------------------------                 43.0/70.9 MB 2.6 MB/s eta 0:00:11\n",
      "     ------------------------                 43.0/70.9 MB 2.5 MB/s eta 0:00:12\n",
      "     ------------------------                 43.1/70.9 MB 2.5 MB/s eta 0:00:12\n",
      "     ------------------------                 43.1/70.9 MB 2.5 MB/s eta 0:00:12\n",
      "     ------------------------                 43.1/70.9 MB 2.5 MB/s eta 0:00:12\n",
      "     ------------------------                 43.1/70.9 MB 2.5 MB/s eta 0:00:12\n",
      "     ------------------------                 43.1/70.9 MB 2.5 MB/s eta 0:00:12\n",
      "     ------------------------                 43.1/70.9 MB 2.5 MB/s eta 0:00:12\n",
      "     ------------------------                 43.1/70.9 MB 2.5 MB/s eta 0:00:12\n",
      "     ------------------------                 43.1/70.9 MB 2.5 MB/s eta 0:00:12\n",
      "     ------------------------                 43.1/70.9 MB 2.5 MB/s eta 0:00:12\n",
      "     ------------------------                 43.1/70.9 MB 2.5 MB/s eta 0:00:12\n",
      "     ------------------------                 43.1/70.9 MB 2.5 MB/s eta 0:00:12\n",
      "     ------------------------                 43.1/70.9 MB 2.5 MB/s eta 0:00:12\n",
      "     ------------------------                 43.1/70.9 MB 2.5 MB/s eta 0:00:12\n",
      "     ------------------------                 43.2/70.9 MB 2.2 MB/s eta 0:00:13\n",
      "     ------------------------                 43.3/70.9 MB 2.2 MB/s eta 0:00:13\n",
      "     ------------------------                 43.3/70.9 MB 2.2 MB/s eta 0:00:13\n",
      "     ------------------------                 43.4/70.9 MB 2.2 MB/s eta 0:00:13\n",
      "     ------------------------                 43.5/70.9 MB 2.2 MB/s eta 0:00:13\n",
      "     ------------------------                 44.2/70.9 MB 2.2 MB/s eta 0:00:12\n",
      "     ------------------------                 44.2/70.9 MB 2.2 MB/s eta 0:00:12\n",
      "     ------------------------                 44.2/70.9 MB 2.2 MB/s eta 0:00:12\n",
      "     ------------------------                 44.2/70.9 MB 2.2 MB/s eta 0:00:12\n",
      "     ------------------------                 44.2/70.9 MB 2.2 MB/s eta 0:00:12\n",
      "     ------------------------                 44.2/70.9 MB 2.2 MB/s eta 0:00:12\n",
      "     ------------------------                 44.2/70.9 MB 2.2 MB/s eta 0:00:12\n",
      "     ------------------------                 44.3/70.9 MB 2.1 MB/s eta 0:00:13\n",
      "     -------------------------                44.4/70.9 MB 2.1 MB/s eta 0:00:13\n",
      "     -------------------------                44.5/70.9 MB 2.1 MB/s eta 0:00:13\n",
      "     -------------------------                44.6/70.9 MB 2.1 MB/s eta 0:00:13\n",
      "     -------------------------                44.7/70.9 MB 2.1 MB/s eta 0:00:13\n",
      "     -------------------------                45.0/70.9 MB 2.1 MB/s eta 0:00:13\n",
      "     -------------------------                45.3/70.9 MB 2.1 MB/s eta 0:00:13\n",
      "     -------------------------                45.4/70.9 MB 2.1 MB/s eta 0:00:13\n",
      "     -------------------------                45.5/70.9 MB 2.1 MB/s eta 0:00:13\n",
      "     -------------------------                45.6/70.9 MB 2.1 MB/s eta 0:00:13\n",
      "     -------------------------                45.7/70.9 MB 2.0 MB/s eta 0:00:13\n",
      "     -------------------------                45.8/70.9 MB 2.0 MB/s eta 0:00:13\n",
      "     -------------------------                46.0/70.9 MB 2.1 MB/s eta 0:00:13\n",
      "     --------------------------               46.2/70.9 MB 2.1 MB/s eta 0:00:13\n",
      "     --------------------------               46.3/70.9 MB 2.0 MB/s eta 0:00:13\n",
      "     --------------------------               46.4/70.9 MB 2.0 MB/s eta 0:00:13\n",
      "     --------------------------               46.6/70.9 MB 2.0 MB/s eta 0:00:12\n",
      "     --------------------------               46.7/70.9 MB 2.0 MB/s eta 0:00:13\n",
      "     --------------------------               46.8/70.9 MB 2.0 MB/s eta 0:00:13\n",
      "     --------------------------               46.8/70.9 MB 2.0 MB/s eta 0:00:13\n",
      "     --------------------------               46.9/70.9 MB 2.0 MB/s eta 0:00:12\n",
      "     --------------------------               47.0/70.9 MB 2.0 MB/s eta 0:00:12\n",
      "     --------------------------               47.1/70.9 MB 2.0 MB/s eta 0:00:12\n",
      "     --------------------------               47.2/70.9 MB 2.0 MB/s eta 0:00:12\n",
      "     --------------------------               47.3/70.9 MB 2.0 MB/s eta 0:00:12\n",
      "     --------------------------               47.4/70.9 MB 2.0 MB/s eta 0:00:12\n",
      "     --------------------------               47.5/70.9 MB 2.0 MB/s eta 0:00:12\n",
      "     --------------------------               47.6/70.9 MB 2.0 MB/s eta 0:00:12\n",
      "     --------------------------               47.7/70.9 MB 2.0 MB/s eta 0:00:12\n",
      "     --------------------------               47.9/70.9 MB 2.0 MB/s eta 0:00:12\n",
      "     ---------------------------              47.9/70.9 MB 1.9 MB/s eta 0:00:12\n",
      "     ---------------------------              48.0/70.9 MB 1.9 MB/s eta 0:00:12\n",
      "     ---------------------------              48.1/70.9 MB 1.9 MB/s eta 0:00:12\n",
      "     ---------------------------              48.2/70.9 MB 1.9 MB/s eta 0:00:12\n",
      "     ---------------------------              48.3/70.9 MB 1.9 MB/s eta 0:00:12\n",
      "     ---------------------------              48.4/70.9 MB 1.9 MB/s eta 0:00:12\n",
      "     ---------------------------              48.4/70.9 MB 1.9 MB/s eta 0:00:12\n",
      "     ---------------------------              48.5/70.9 MB 1.9 MB/s eta 0:00:12\n",
      "     ---------------------------              48.5/70.9 MB 1.9 MB/s eta 0:00:12\n",
      "     ---------------------------              48.6/70.9 MB 1.9 MB/s eta 0:00:12\n",
      "     ---------------------------              48.6/70.9 MB 1.9 MB/s eta 0:00:13\n",
      "     ---------------------------              48.7/70.9 MB 1.8 MB/s eta 0:00:13\n",
      "     ---------------------------              48.7/70.9 MB 1.8 MB/s eta 0:00:13\n",
      "     ---------------------------              48.8/70.9 MB 1.8 MB/s eta 0:00:13\n",
      "     ---------------------------              48.8/70.9 MB 1.8 MB/s eta 0:00:13\n",
      "     ---------------------------              48.8/70.9 MB 1.8 MB/s eta 0:00:13\n",
      "     ---------------------------              48.8/70.9 MB 1.8 MB/s eta 0:00:13\n",
      "     ---------------------------              48.8/70.9 MB 1.8 MB/s eta 0:00:13\n",
      "     ---------------------------              48.8/70.9 MB 1.8 MB/s eta 0:00:13\n",
      "     ---------------------------              48.8/70.9 MB 1.8 MB/s eta 0:00:13\n",
      "     ---------------------------              48.8/70.9 MB 1.8 MB/s eta 0:00:13\n",
      "     ---------------------------              48.9/70.9 MB 1.7 MB/s eta 0:00:13\n",
      "     ---------------------------              48.9/70.9 MB 1.7 MB/s eta 0:00:13\n",
      "     ---------------------------              49.6/70.9 MB 1.8 MB/s eta 0:00:13\n",
      "     ----------------------------             49.7/70.9 MB 1.8 MB/s eta 0:00:13\n",
      "     ----------------------------             49.8/70.9 MB 1.8 MB/s eta 0:00:13\n",
      "     ----------------------------             49.9/70.9 MB 1.8 MB/s eta 0:00:13\n",
      "     ----------------------------             49.9/70.9 MB 1.7 MB/s eta 0:00:13\n",
      "     ----------------------------             50.0/70.9 MB 1.7 MB/s eta 0:00:13\n",
      "     ----------------------------             50.0/70.9 MB 1.7 MB/s eta 0:00:13\n",
      "     ----------------------------             50.0/70.9 MB 1.7 MB/s eta 0:00:12\n",
      "     ----------------------------             50.1/70.9 MB 1.7 MB/s eta 0:00:13\n",
      "     ----------------------------             50.1/70.9 MB 1.7 MB/s eta 0:00:13\n",
      "     ----------------------------             50.2/70.9 MB 1.7 MB/s eta 0:00:13\n",
      "     ----------------------------             50.2/70.9 MB 1.7 MB/s eta 0:00:13\n",
      "     ----------------------------             50.2/70.9 MB 1.7 MB/s eta 0:00:13\n",
      "     ----------------------------             50.3/70.9 MB 1.7 MB/s eta 0:00:13\n",
      "     ----------------------------             50.3/70.9 MB 1.7 MB/s eta 0:00:13\n",
      "     ----------------------------             50.3/70.9 MB 1.7 MB/s eta 0:00:13\n",
      "     ----------------------------             50.3/70.9 MB 1.7 MB/s eta 0:00:13\n",
      "     ----------------------------             50.3/70.9 MB 1.7 MB/s eta 0:00:13\n",
      "     ----------------------------             50.3/70.9 MB 1.7 MB/s eta 0:00:13\n",
      "     ----------------------------             50.3/70.9 MB 1.7 MB/s eta 0:00:13\n",
      "     ----------------------------             50.3/70.9 MB 1.7 MB/s eta 0:00:13\n",
      "     ----------------------------             50.3/70.9 MB 1.7 MB/s eta 0:00:13\n",
      "     ----------------------------             50.3/70.9 MB 1.7 MB/s eta 0:00:13\n",
      "     ----------------------------             50.3/70.9 MB 1.7 MB/s eta 0:00:13\n",
      "     ----------------------------             50.3/70.9 MB 1.7 MB/s eta 0:00:13\n",
      "     ----------------------------             50.3/70.9 MB 1.7 MB/s eta 0:00:13\n",
      "     ----------------------------             50.3/70.9 MB 1.7 MB/s eta 0:00:13\n",
      "     ----------------------------             50.3/70.9 MB 1.7 MB/s eta 0:00:13\n",
      "     ----------------------------             50.4/70.9 MB 1.5 MB/s eta 0:00:14\n",
      "     ----------------------------             50.5/70.9 MB 1.5 MB/s eta 0:00:14\n",
      "     ----------------------------             50.5/70.9 MB 1.5 MB/s eta 0:00:14\n",
      "     ----------------------------             50.6/70.9 MB 1.5 MB/s eta 0:00:14\n",
      "     ----------------------------             50.6/70.9 MB 1.5 MB/s eta 0:00:14\n",
      "     ----------------------------             50.7/70.9 MB 1.5 MB/s eta 0:00:14\n",
      "     ----------------------------             50.7/70.9 MB 1.5 MB/s eta 0:00:14\n",
      "     ----------------------------             50.8/70.9 MB 1.5 MB/s eta 0:00:14\n",
      "     ----------------------------             50.9/70.9 MB 1.5 MB/s eta 0:00:14\n",
      "     ----------------------------             51.0/70.9 MB 1.5 MB/s eta 0:00:14\n",
      "     ----------------------------             51.0/70.9 MB 1.5 MB/s eta 0:00:14\n",
      "     ----------------------------             51.0/70.9 MB 1.5 MB/s eta 0:00:14\n",
      "     ----------------------------             51.1/70.9 MB 1.4 MB/s eta 0:00:14\n",
      "     ----------------------------             51.1/70.9 MB 1.4 MB/s eta 0:00:14\n",
      "     ----------------------------             51.2/70.9 MB 1.4 MB/s eta 0:00:14\n",
      "     ----------------------------             51.2/70.9 MB 1.4 MB/s eta 0:00:14\n",
      "     ----------------------------             51.2/70.9 MB 1.4 MB/s eta 0:00:14\n",
      "     ----------------------------             51.3/70.9 MB 1.4 MB/s eta 0:00:14\n",
      "     ----------------------------             51.3/70.9 MB 1.4 MB/s eta 0:00:14\n",
      "     ----------------------------             51.3/70.9 MB 1.4 MB/s eta 0:00:14\n",
      "     -----------------------------            51.8/70.9 MB 1.4 MB/s eta 0:00:14\n",
      "     -----------------------------            51.8/70.9 MB 1.4 MB/s eta 0:00:14\n",
      "     -----------------------------            51.8/70.9 MB 1.4 MB/s eta 0:00:14\n",
      "     -----------------------------            51.8/70.9 MB 1.4 MB/s eta 0:00:14\n",
      "     -----------------------------            51.8/70.9 MB 1.4 MB/s eta 0:00:14\n",
      "     -----------------------------            51.8/70.9 MB 1.4 MB/s eta 0:00:14\n",
      "     -----------------------------            52.0/70.9 MB 1.4 MB/s eta 0:00:14\n",
      "     -----------------------------            52.1/70.9 MB 1.4 MB/s eta 0:00:14\n",
      "     -----------------------------            52.6/70.9 MB 1.4 MB/s eta 0:00:13\n",
      "     -----------------------------            52.7/70.9 MB 1.4 MB/s eta 0:00:13\n",
      "     -----------------------------            52.7/70.9 MB 1.4 MB/s eta 0:00:13\n",
      "     -----------------------------            52.8/70.9 MB 1.4 MB/s eta 0:00:13\n",
      "     -----------------------------            52.8/70.9 MB 1.4 MB/s eta 0:00:13\n",
      "     -----------------------------            52.8/70.9 MB 1.4 MB/s eta 0:00:13\n",
      "     -----------------------------            52.9/70.9 MB 1.4 MB/s eta 0:00:13\n",
      "     -----------------------------            52.9/70.9 MB 1.4 MB/s eta 0:00:13\n",
      "     -----------------------------            53.0/70.9 MB 1.4 MB/s eta 0:00:13\n",
      "     -----------------------------            53.0/70.9 MB 1.4 MB/s eta 0:00:13\n",
      "     -----------------------------            53.1/70.9 MB 1.4 MB/s eta 0:00:13\n",
      "     -----------------------------            53.1/70.9 MB 1.4 MB/s eta 0:00:13\n",
      "     -----------------------------            53.2/70.9 MB 1.4 MB/s eta 0:00:13\n",
      "     ------------------------------           53.3/70.9 MB 1.4 MB/s eta 0:00:13\n",
      "     ------------------------------           53.4/70.9 MB 1.5 MB/s eta 0:00:12\n",
      "     ------------------------------           53.5/70.9 MB 1.5 MB/s eta 0:00:12\n",
      "     ------------------------------           53.6/70.9 MB 1.5 MB/s eta 0:00:12\n",
      "     ------------------------------           53.6/70.9 MB 1.5 MB/s eta 0:00:12\n",
      "     ------------------------------           53.7/70.9 MB 1.5 MB/s eta 0:00:12\n",
      "     ------------------------------           53.9/70.9 MB 1.5 MB/s eta 0:00:12\n",
      "     ------------------------------           53.9/70.9 MB 1.5 MB/s eta 0:00:12\n",
      "     ------------------------------           54.0/70.9 MB 1.5 MB/s eta 0:00:12\n",
      "     ------------------------------           54.1/70.9 MB 1.5 MB/s eta 0:00:12\n",
      "     ------------------------------           54.2/70.9 MB 1.5 MB/s eta 0:00:12\n",
      "     ------------------------------           54.3/70.9 MB 1.5 MB/s eta 0:00:12\n",
      "     ------------------------------           54.4/70.9 MB 1.5 MB/s eta 0:00:12\n",
      "     ------------------------------           54.6/70.9 MB 1.5 MB/s eta 0:00:11\n",
      "     ------------------------------           54.6/70.9 MB 1.5 MB/s eta 0:00:11\n",
      "     ------------------------------           54.7/70.9 MB 1.5 MB/s eta 0:00:11\n",
      "     ------------------------------           54.8/70.9 MB 1.5 MB/s eta 0:00:11\n",
      "     ------------------------------           54.9/70.9 MB 1.5 MB/s eta 0:00:11\n",
      "     -------------------------------          55.0/70.9 MB 1.5 MB/s eta 0:00:11\n",
      "     -------------------------------          55.1/70.9 MB 1.5 MB/s eta 0:00:11\n",
      "     -------------------------------          55.2/70.9 MB 1.5 MB/s eta 0:00:11\n",
      "     -------------------------------          55.2/70.9 MB 1.5 MB/s eta 0:00:11\n",
      "     -------------------------------          55.3/70.9 MB 1.5 MB/s eta 0:00:11\n",
      "     -------------------------------          55.4/70.9 MB 1.5 MB/s eta 0:00:11\n",
      "     -------------------------------          55.5/70.9 MB 1.5 MB/s eta 0:00:11\n",
      "     -------------------------------          55.7/70.9 MB 1.6 MB/s eta 0:00:10\n",
      "     -------------------------------          55.8/70.9 MB 1.5 MB/s eta 0:00:10\n",
      "     -------------------------------          55.8/70.9 MB 1.5 MB/s eta 0:00:10\n",
      "     -------------------------------          55.9/70.9 MB 1.5 MB/s eta 0:00:10\n",
      "     -------------------------------          55.9/70.9 MB 1.5 MB/s eta 0:00:10\n",
      "     -------------------------------          56.0/70.9 MB 1.5 MB/s eta 0:00:10\n",
      "     -------------------------------          56.1/70.9 MB 1.5 MB/s eta 0:00:10\n",
      "     -------------------------------          56.2/70.9 MB 1.5 MB/s eta 0:00:10\n",
      "     -------------------------------          56.3/70.9 MB 1.5 MB/s eta 0:00:10\n",
      "     -------------------------------          56.4/70.9 MB 1.5 MB/s eta 0:00:10\n",
      "     -------------------------------          56.5/70.9 MB 1.5 MB/s eta 0:00:10\n",
      "     -------------------------------          56.7/70.9 MB 1.5 MB/s eta 0:00:10\n",
      "     --------------------------------         56.8/70.9 MB 1.5 MB/s eta 0:00:10\n",
      "     --------------------------------         57.0/70.9 MB 1.5 MB/s eta 0:00:10\n",
      "     --------------------------------         57.1/70.9 MB 1.5 MB/s eta 0:00:10\n",
      "     --------------------------------         57.2/70.9 MB 1.5 MB/s eta 0:00:09\n",
      "     --------------------------------         57.3/70.9 MB 1.5 MB/s eta 0:00:09\n",
      "     --------------------------------         57.4/70.9 MB 1.5 MB/s eta 0:00:09\n",
      "     --------------------------------         57.5/70.9 MB 1.5 MB/s eta 0:00:09\n",
      "     --------------------------------         57.6/70.9 MB 1.5 MB/s eta 0:00:09\n",
      "     --------------------------------         57.7/70.9 MB 1.5 MB/s eta 0:00:09\n",
      "     --------------------------------         57.8/70.9 MB 1.5 MB/s eta 0:00:09\n",
      "     --------------------------------         57.9/70.9 MB 1.5 MB/s eta 0:00:09\n",
      "     --------------------------------         58.0/70.9 MB 1.5 MB/s eta 0:00:09\n",
      "     --------------------------------         58.3/70.9 MB 1.5 MB/s eta 0:00:09\n",
      "     --------------------------------         58.4/70.9 MB 1.5 MB/s eta 0:00:09\n",
      "     --------------------------------         58.5/70.9 MB 1.5 MB/s eta 0:00:09\n",
      "     ---------------------------------        58.6/70.9 MB 1.5 MB/s eta 0:00:08\n",
      "     ---------------------------------        58.7/70.9 MB 1.6 MB/s eta 0:00:08\n",
      "     ---------------------------------        58.8/70.9 MB 1.6 MB/s eta 0:00:08\n",
      "     ---------------------------------        58.9/70.9 MB 1.6 MB/s eta 0:00:08\n",
      "     ---------------------------------        59.1/70.9 MB 1.7 MB/s eta 0:00:08\n",
      "     ---------------------------------        59.2/70.9 MB 1.7 MB/s eta 0:00:07\n",
      "     ---------------------------------        59.3/70.9 MB 1.7 MB/s eta 0:00:07\n",
      "     ---------------------------------        59.3/70.9 MB 1.7 MB/s eta 0:00:07\n",
      "     ---------------------------------        59.5/70.9 MB 1.7 MB/s eta 0:00:07\n",
      "     ---------------------------------        59.6/70.9 MB 1.6 MB/s eta 0:00:07\n",
      "     ---------------------------------        59.7/70.9 MB 1.6 MB/s eta 0:00:07\n",
      "     ---------------------------------        59.9/70.9 MB 1.6 MB/s eta 0:00:07\n",
      "     ---------------------------------        60.0/70.9 MB 1.6 MB/s eta 0:00:07\n",
      "     ---------------------------------        60.1/70.9 MB 1.6 MB/s eta 0:00:07\n",
      "     ---------------------------------        60.3/70.9 MB 1.7 MB/s eta 0:00:07\n",
      "     ----------------------------------       60.4/70.9 MB 1.7 MB/s eta 0:00:07\n",
      "     ----------------------------------       60.6/70.9 MB 2.0 MB/s eta 0:00:06\n",
      "     ----------------------------------       60.7/70.9 MB 2.0 MB/s eta 0:00:06\n",
      "     ----------------------------------       60.8/70.9 MB 2.0 MB/s eta 0:00:05\n",
      "     ----------------------------------       61.0/70.9 MB 2.0 MB/s eta 0:00:05\n",
      "     ----------------------------------       61.0/70.9 MB 2.0 MB/s eta 0:00:05\n",
      "     ----------------------------------       61.3/70.9 MB 2.1 MB/s eta 0:00:05\n",
      "     ----------------------------------       61.4/70.9 MB 2.1 MB/s eta 0:00:05\n",
      "     ----------------------------------       61.6/70.9 MB 2.2 MB/s eta 0:00:05\n",
      "     ----------------------------------       61.7/70.9 MB 2.2 MB/s eta 0:00:05\n",
      "     ----------------------------------       61.9/70.9 MB 2.2 MB/s eta 0:00:05\n",
      "     ----------------------------------       62.0/70.9 MB 2.2 MB/s eta 0:00:05\n",
      "     -----------------------------------      62.1/70.9 MB 2.3 MB/s eta 0:00:04\n",
      "     -----------------------------------      62.3/70.9 MB 2.3 MB/s eta 0:00:04\n",
      "     -----------------------------------      62.5/70.9 MB 2.3 MB/s eta 0:00:04\n",
      "     -----------------------------------      62.6/70.9 MB 2.2 MB/s eta 0:00:04\n",
      "     -----------------------------------      62.8/70.9 MB 2.2 MB/s eta 0:00:04\n",
      "     -----------------------------------      62.9/70.9 MB 2.3 MB/s eta 0:00:04\n",
      "     -----------------------------------      63.1/70.9 MB 2.3 MB/s eta 0:00:04\n",
      "     -----------------------------------      63.2/70.9 MB 2.4 MB/s eta 0:00:04\n",
      "     -----------------------------------      63.3/70.9 MB 2.4 MB/s eta 0:00:04\n",
      "     -----------------------------------      63.4/70.9 MB 2.4 MB/s eta 0:00:04\n",
      "     -----------------------------------      63.5/70.9 MB 2.4 MB/s eta 0:00:04\n",
      "     -----------------------------------      63.6/70.9 MB 2.4 MB/s eta 0:00:04\n",
      "     -----------------------------------      63.7/70.9 MB 2.4 MB/s eta 0:00:03\n",
      "     -----------------------------------      63.7/70.9 MB 2.4 MB/s eta 0:00:03\n",
      "     -----------------------------------      63.8/70.9 MB 2.4 MB/s eta 0:00:03\n",
      "     ------------------------------------     63.9/70.9 MB 2.4 MB/s eta 0:00:03\n",
      "     ------------------------------------     63.9/70.9 MB 2.4 MB/s eta 0:00:03\n",
      "     ------------------------------------     64.1/70.9 MB 2.4 MB/s eta 0:00:03\n",
      "     ------------------------------------     64.1/70.9 MB 2.4 MB/s eta 0:00:03\n",
      "     ------------------------------------     64.2/70.9 MB 2.4 MB/s eta 0:00:03\n",
      "     ------------------------------------     64.3/70.9 MB 2.4 MB/s eta 0:00:03\n",
      "     ------------------------------------     64.4/70.9 MB 2.4 MB/s eta 0:00:03\n",
      "     ------------------------------------     64.5/70.9 MB 2.3 MB/s eta 0:00:03\n",
      "     ------------------------------------     64.6/70.9 MB 2.4 MB/s eta 0:00:03\n",
      "     ------------------------------------     64.6/70.9 MB 2.4 MB/s eta 0:00:03\n",
      "     ------------------------------------     64.8/70.9 MB 2.4 MB/s eta 0:00:03\n",
      "     ------------------------------------     64.9/70.9 MB 2.4 MB/s eta 0:00:03\n",
      "     ------------------------------------     65.0/70.9 MB 2.4 MB/s eta 0:00:03\n",
      "     ------------------------------------     65.1/70.9 MB 2.4 MB/s eta 0:00:03\n",
      "     ------------------------------------     65.2/70.9 MB 2.4 MB/s eta 0:00:03\n",
      "     ------------------------------------     65.3/70.9 MB 2.4 MB/s eta 0:00:03\n",
      "     ------------------------------------     65.5/70.9 MB 2.4 MB/s eta 0:00:03\n",
      "     ------------------------------------     65.6/70.9 MB 2.4 MB/s eta 0:00:03\n",
      "     -------------------------------------    65.7/70.9 MB 2.4 MB/s eta 0:00:03\n",
      "     -------------------------------------    65.7/70.9 MB 2.4 MB/s eta 0:00:03\n",
      "     -------------------------------------    65.9/70.9 MB 2.4 MB/s eta 0:00:03\n",
      "     -------------------------------------    65.9/70.9 MB 2.4 MB/s eta 0:00:03\n",
      "     -------------------------------------    66.1/70.9 MB 2.4 MB/s eta 0:00:02\n",
      "     -------------------------------------    66.2/70.9 MB 2.5 MB/s eta 0:00:02\n",
      "     -------------------------------------    66.3/70.9 MB 2.5 MB/s eta 0:00:02\n",
      "     -------------------------------------    66.5/70.9 MB 2.5 MB/s eta 0:00:02\n",
      "     -------------------------------------    66.6/70.9 MB 2.5 MB/s eta 0:00:02\n",
      "     -------------------------------------    66.7/70.9 MB 2.5 MB/s eta 0:00:02\n",
      "     -------------------------------------    66.8/70.9 MB 2.5 MB/s eta 0:00:02\n",
      "     -------------------------------------    66.8/70.9 MB 2.5 MB/s eta 0:00:02\n",
      "     -------------------------------------    66.9/70.9 MB 2.4 MB/s eta 0:00:02\n",
      "     -------------------------------------    67.1/70.9 MB 2.4 MB/s eta 0:00:02\n",
      "     -------------------------------------    67.2/70.9 MB 2.4 MB/s eta 0:00:02\n",
      "     -------------------------------------    67.3/70.9 MB 2.4 MB/s eta 0:00:02\n",
      "     --------------------------------------   67.4/70.9 MB 2.4 MB/s eta 0:00:02\n",
      "     --------------------------------------   67.5/70.9 MB 2.4 MB/s eta 0:00:02\n",
      "     --------------------------------------   67.7/70.9 MB 2.5 MB/s eta 0:00:02\n",
      "     --------------------------------------   67.8/70.9 MB 2.5 MB/s eta 0:00:02\n",
      "     --------------------------------------   67.9/70.9 MB 2.5 MB/s eta 0:00:02\n",
      "     --------------------------------------   68.0/70.9 MB 2.5 MB/s eta 0:00:02\n",
      "     --------------------------------------   68.1/70.9 MB 2.4 MB/s eta 0:00:02\n",
      "     --------------------------------------   68.2/70.9 MB 2.5 MB/s eta 0:00:02\n",
      "     --------------------------------------   68.3/70.9 MB 2.5 MB/s eta 0:00:02\n",
      "     --------------------------------------   68.4/70.9 MB 2.4 MB/s eta 0:00:02\n",
      "     --------------------------------------   68.5/70.9 MB 2.4 MB/s eta 0:00:02\n",
      "     --------------------------------------   68.6/70.9 MB 2.4 MB/s eta 0:00:01\n",
      "     --------------------------------------   68.7/70.9 MB 2.4 MB/s eta 0:00:01\n",
      "     --------------------------------------   68.8/70.9 MB 2.4 MB/s eta 0:00:01\n",
      "     --------------------------------------   68.9/70.9 MB 2.4 MB/s eta 0:00:01\n",
      "     --------------------------------------   69.0/70.9 MB 2.4 MB/s eta 0:00:01\n",
      "     --------------------------------------   69.1/70.9 MB 2.4 MB/s eta 0:00:01\n",
      "     ---------------------------------------  69.2/70.9 MB 2.4 MB/s eta 0:00:01\n",
      "     ---------------------------------------  69.3/70.9 MB 2.4 MB/s eta 0:00:01\n",
      "     ---------------------------------------  69.4/70.9 MB 2.4 MB/s eta 0:00:01\n",
      "     ---------------------------------------  69.5/70.9 MB 2.4 MB/s eta 0:00:01\n",
      "     ---------------------------------------  69.5/70.9 MB 2.4 MB/s eta 0:00:01\n",
      "     ---------------------------------------  69.7/70.9 MB 2.4 MB/s eta 0:00:01\n",
      "     ---------------------------------------  69.8/70.9 MB 2.4 MB/s eta 0:00:01\n",
      "     ---------------------------------------  69.9/70.9 MB 2.4 MB/s eta 0:00:01\n",
      "     ---------------------------------------  70.0/70.9 MB 2.4 MB/s eta 0:00:01\n",
      "     ---------------------------------------  70.1/70.9 MB 2.4 MB/s eta 0:00:01\n",
      "     ---------------------------------------  70.2/70.9 MB 2.4 MB/s eta 0:00:01\n",
      "     ---------------------------------------  70.3/70.9 MB 2.4 MB/s eta 0:00:01\n",
      "     ---------------------------------------  70.4/70.9 MB 2.4 MB/s eta 0:00:01\n",
      "     ---------------------------------------  70.5/70.9 MB 2.3 MB/s eta 0:00:01\n",
      "     ---------------------------------------  70.6/70.9 MB 2.3 MB/s eta 0:00:01\n",
      "     ---------------------------------------  70.7/70.9 MB 2.3 MB/s eta 0:00:01\n",
      "     ---------------------------------------  70.8/70.9 MB 2.3 MB/s eta 0:00:01\n",
      "     ---------------------------------------  70.9/70.9 MB 2.3 MB/s eta 0:00:01\n",
      "     ---------------------------------------  70.9/70.9 MB 2.3 MB/s eta 0:00:01\n",
      "     ---------------------------------------  70.9/70.9 MB 2.3 MB/s eta 0:00:01\n",
      "     ---------------------------------------  70.9/70.9 MB 2.3 MB/s eta 0:00:01\n",
      "     ---------------------------------------  70.9/70.9 MB 2.3 MB/s eta 0:00:01\n",
      "     ---------------------------------------- 70.9/70.9 MB 2.2 MB/s eta 0:00:00\n",
      "Requirement already satisfied: numpy in e:\\anaconda\\lib\\site-packages (from xgboost) (1.24.3)\n",
      "Requirement already satisfied: scipy in e:\\anaconda\\lib\\site-packages (from xgboost) (1.10.1)\n",
      "Installing collected packages: xgboost\n",
      "Successfully installed xgboost-1.7.6\n",
      "\n"
     ]
    }
   ],
   "source": [
    "pip install xgboost"
   ]
  },
  {
   "cell_type": "code",
   "execution_count": 183,
   "id": "6f917b75",
   "metadata": {},
   "outputs": [
    {
     "data": {
      "text/html": [
       "<style>#sk-container-id-7 {color: black;background-color: white;}#sk-container-id-7 pre{padding: 0;}#sk-container-id-7 div.sk-toggleable {background-color: white;}#sk-container-id-7 label.sk-toggleable__label {cursor: pointer;display: block;width: 100%;margin-bottom: 0;padding: 0.3em;box-sizing: border-box;text-align: center;}#sk-container-id-7 label.sk-toggleable__label-arrow:before {content: \"▸\";float: left;margin-right: 0.25em;color: #696969;}#sk-container-id-7 label.sk-toggleable__label-arrow:hover:before {color: black;}#sk-container-id-7 div.sk-estimator:hover label.sk-toggleable__label-arrow:before {color: black;}#sk-container-id-7 div.sk-toggleable__content {max-height: 0;max-width: 0;overflow: hidden;text-align: left;background-color: #f0f8ff;}#sk-container-id-7 div.sk-toggleable__content pre {margin: 0.2em;color: black;border-radius: 0.25em;background-color: #f0f8ff;}#sk-container-id-7 input.sk-toggleable__control:checked~div.sk-toggleable__content {max-height: 200px;max-width: 100%;overflow: auto;}#sk-container-id-7 input.sk-toggleable__control:checked~label.sk-toggleable__label-arrow:before {content: \"▾\";}#sk-container-id-7 div.sk-estimator input.sk-toggleable__control:checked~label.sk-toggleable__label {background-color: #d4ebff;}#sk-container-id-7 div.sk-label input.sk-toggleable__control:checked~label.sk-toggleable__label {background-color: #d4ebff;}#sk-container-id-7 input.sk-hidden--visually {border: 0;clip: rect(1px 1px 1px 1px);clip: rect(1px, 1px, 1px, 1px);height: 1px;margin: -1px;overflow: hidden;padding: 0;position: absolute;width: 1px;}#sk-container-id-7 div.sk-estimator {font-family: monospace;background-color: #f0f8ff;border: 1px dotted black;border-radius: 0.25em;box-sizing: border-box;margin-bottom: 0.5em;}#sk-container-id-7 div.sk-estimator:hover {background-color: #d4ebff;}#sk-container-id-7 div.sk-parallel-item::after {content: \"\";width: 100%;border-bottom: 1px solid gray;flex-grow: 1;}#sk-container-id-7 div.sk-label:hover label.sk-toggleable__label {background-color: #d4ebff;}#sk-container-id-7 div.sk-serial::before {content: \"\";position: absolute;border-left: 1px solid gray;box-sizing: border-box;top: 0;bottom: 0;left: 50%;z-index: 0;}#sk-container-id-7 div.sk-serial {display: flex;flex-direction: column;align-items: center;background-color: white;padding-right: 0.2em;padding-left: 0.2em;position: relative;}#sk-container-id-7 div.sk-item {position: relative;z-index: 1;}#sk-container-id-7 div.sk-parallel {display: flex;align-items: stretch;justify-content: center;background-color: white;position: relative;}#sk-container-id-7 div.sk-item::before, #sk-container-id-7 div.sk-parallel-item::before {content: \"\";position: absolute;border-left: 1px solid gray;box-sizing: border-box;top: 0;bottom: 0;left: 50%;z-index: -1;}#sk-container-id-7 div.sk-parallel-item {display: flex;flex-direction: column;z-index: 1;position: relative;background-color: white;}#sk-container-id-7 div.sk-parallel-item:first-child::after {align-self: flex-end;width: 50%;}#sk-container-id-7 div.sk-parallel-item:last-child::after {align-self: flex-start;width: 50%;}#sk-container-id-7 div.sk-parallel-item:only-child::after {width: 0;}#sk-container-id-7 div.sk-dashed-wrapped {border: 1px dashed gray;margin: 0 0.4em 0.5em 0.4em;box-sizing: border-box;padding-bottom: 0.4em;background-color: white;}#sk-container-id-7 div.sk-label label {font-family: monospace;font-weight: bold;display: inline-block;line-height: 1.2em;}#sk-container-id-7 div.sk-label-container {text-align: center;}#sk-container-id-7 div.sk-container {/* jupyter's `normalize.less` sets `[hidden] { display: none; }` but bootstrap.min.css set `[hidden] { display: none !important; }` so we also need the `!important` here to be able to override the default hidden behavior on the sphinx rendered scikit-learn.org. See: https://github.com/scikit-learn/scikit-learn/issues/21755 */display: inline-block !important;position: relative;}#sk-container-id-7 div.sk-text-repr-fallback {display: none;}</style><div id=\"sk-container-id-7\" class=\"sk-top-container\"><div class=\"sk-text-repr-fallback\"><pre>XGBClassifier(base_score=None, booster=None, callbacks=None,\n",
       "              colsample_bylevel=None, colsample_bynode=None,\n",
       "              colsample_bytree=None, early_stopping_rounds=None,\n",
       "              enable_categorical=False, eval_metric=None, feature_types=None,\n",
       "              gamma=None, gpu_id=None, grow_policy=None, importance_type=None,\n",
       "              interaction_constraints=None, learning_rate=None, max_bin=None,\n",
       "              max_cat_threshold=None, max_cat_to_onehot=None,\n",
       "              max_delta_step=None, max_depth=None, max_leaves=None,\n",
       "              min_child_weight=None, missing=nan, monotone_constraints=None,\n",
       "              n_estimators=100, n_jobs=None, num_parallel_tree=None,\n",
       "              predictor=None, random_state=None, ...)</pre><b>In a Jupyter environment, please rerun this cell to show the HTML representation or trust the notebook. <br />On GitHub, the HTML representation is unable to render, please try loading this page with nbviewer.org.</b></div><div class=\"sk-container\" hidden><div class=\"sk-item\"><div class=\"sk-estimator sk-toggleable\"><input class=\"sk-toggleable__control sk-hidden--visually\" id=\"sk-estimator-id-7\" type=\"checkbox\" checked><label for=\"sk-estimator-id-7\" class=\"sk-toggleable__label sk-toggleable__label-arrow\">XGBClassifier</label><div class=\"sk-toggleable__content\"><pre>XGBClassifier(base_score=None, booster=None, callbacks=None,\n",
       "              colsample_bylevel=None, colsample_bynode=None,\n",
       "              colsample_bytree=None, early_stopping_rounds=None,\n",
       "              enable_categorical=False, eval_metric=None, feature_types=None,\n",
       "              gamma=None, gpu_id=None, grow_policy=None, importance_type=None,\n",
       "              interaction_constraints=None, learning_rate=None, max_bin=None,\n",
       "              max_cat_threshold=None, max_cat_to_onehot=None,\n",
       "              max_delta_step=None, max_depth=None, max_leaves=None,\n",
       "              min_child_weight=None, missing=nan, monotone_constraints=None,\n",
       "              n_estimators=100, n_jobs=None, num_parallel_tree=None,\n",
       "              predictor=None, random_state=None, ...)</pre></div></div></div></div></div>"
      ],
      "text/plain": [
       "XGBClassifier(base_score=None, booster=None, callbacks=None,\n",
       "              colsample_bylevel=None, colsample_bynode=None,\n",
       "              colsample_bytree=None, early_stopping_rounds=None,\n",
       "              enable_categorical=False, eval_metric=None, feature_types=None,\n",
       "              gamma=None, gpu_id=None, grow_policy=None, importance_type=None,\n",
       "              interaction_constraints=None, learning_rate=None, max_bin=None,\n",
       "              max_cat_threshold=None, max_cat_to_onehot=None,\n",
       "              max_delta_step=None, max_depth=None, max_leaves=None,\n",
       "              min_child_weight=None, missing=nan, monotone_constraints=None,\n",
       "              n_estimators=100, n_jobs=None, num_parallel_tree=None,\n",
       "              predictor=None, random_state=None, ...)"
      ]
     },
     "execution_count": 183,
     "metadata": {},
     "output_type": "execute_result"
    }
   ],
   "source": [
    "#xgboost classifier\n",
    "from xgboost import XGBClassifier\n",
    "xg = XGBClassifier(objective = 'binary:logistic')\n",
    "xg.fit(x_train,y_train)\n"
   ]
  },
  {
   "cell_type": "code",
   "execution_count": 186,
   "id": "af6dc68b",
   "metadata": {},
   "outputs": [
    {
     "name": "stdout",
     "output_type": "stream",
     "text": [
      "Testing accuracy is :  0.49805\n"
     ]
    }
   ],
   "source": [
    "print(\"Testing accuracy is : \", xg.score(x_test,y_test))"
   ]
  },
  {
   "cell_type": "markdown",
   "id": "b9bd28d5",
   "metadata": {},
   "source": [
    "# Hyperparameter Tuning"
   ]
  },
  {
   "cell_type": "code",
   "execution_count": 193,
   "id": "673bd709",
   "metadata": {},
   "outputs": [],
   "source": [
    "import warnings\n",
    "warnings.filterwarnings('ignore')"
   ]
  },
  {
   "cell_type": "code",
   "execution_count": 201,
   "id": "ecf401af",
   "metadata": {},
   "outputs": [],
   "source": [
    "from sklearn.model_selection import RandomizedSearchCV"
   ]
  },
  {
   "cell_type": "code",
   "execution_count": 202,
   "id": "20f79c3f",
   "metadata": {},
   "outputs": [],
   "source": [
    "param_grid = {\n",
    "        'max_depth':[2,3,4,5],\n",
    "         'n_estimator':[20,40]}"
   ]
  },
  {
   "cell_type": "code",
   "execution_count": 204,
   "id": "20a8294d",
   "metadata": {},
   "outputs": [],
   "source": [
    "grid =  RandomizedSearchCV(XGBClassifier(objective = 'binary:logistic'), param_grid, verbose = 2)"
   ]
  },
  {
   "cell_type": "code",
   "execution_count": 205,
   "id": "f51355c5",
   "metadata": {},
   "outputs": [
    {
     "name": "stdout",
     "output_type": "stream",
     "text": [
      "Fitting 5 folds for each of 8 candidates, totalling 40 fits\n",
      "[19:30:35] WARNING: C:\\buildkite-agent\\builds\\buildkite-windows-cpu-autoscaling-group-i-0fdc6d574b9c0d168-1\\xgboost\\xgboost-ci-windows\\src\\learner.cc:767: \n",
      "Parameters: { \"n_estimator\" } are not used.\n",
      "\n",
      "[CV] END ........................max_depth=2, n_estimator=20; total time=   0.7s\n",
      "[19:30:35] WARNING: C:\\buildkite-agent\\builds\\buildkite-windows-cpu-autoscaling-group-i-0fdc6d574b9c0d168-1\\xgboost\\xgboost-ci-windows\\src\\learner.cc:767: \n",
      "Parameters: { \"n_estimator\" } are not used.\n",
      "\n",
      "[CV] END ........................max_depth=2, n_estimator=20; total time=   0.5s\n",
      "[19:30:36] WARNING: C:\\buildkite-agent\\builds\\buildkite-windows-cpu-autoscaling-group-i-0fdc6d574b9c0d168-1\\xgboost\\xgboost-ci-windows\\src\\learner.cc:767: \n",
      "Parameters: { \"n_estimator\" } are not used.\n",
      "\n",
      "[CV] END ........................max_depth=2, n_estimator=20; total time=   0.4s\n",
      "[19:30:36] WARNING: C:\\buildkite-agent\\builds\\buildkite-windows-cpu-autoscaling-group-i-0fdc6d574b9c0d168-1\\xgboost\\xgboost-ci-windows\\src\\learner.cc:767: \n",
      "Parameters: { \"n_estimator\" } are not used.\n",
      "\n",
      "[CV] END ........................max_depth=2, n_estimator=20; total time=   0.4s\n",
      "[19:30:37] WARNING: C:\\buildkite-agent\\builds\\buildkite-windows-cpu-autoscaling-group-i-0fdc6d574b9c0d168-1\\xgboost\\xgboost-ci-windows\\src\\learner.cc:767: \n",
      "Parameters: { \"n_estimator\" } are not used.\n",
      "\n",
      "[CV] END ........................max_depth=2, n_estimator=20; total time=   0.4s\n",
      "[19:30:37] WARNING: C:\\buildkite-agent\\builds\\buildkite-windows-cpu-autoscaling-group-i-0fdc6d574b9c0d168-1\\xgboost\\xgboost-ci-windows\\src\\learner.cc:767: \n",
      "Parameters: { \"n_estimator\" } are not used.\n",
      "\n",
      "[CV] END ........................max_depth=2, n_estimator=40; total time=   0.4s\n",
      "[19:30:38] WARNING: C:\\buildkite-agent\\builds\\buildkite-windows-cpu-autoscaling-group-i-0fdc6d574b9c0d168-1\\xgboost\\xgboost-ci-windows\\src\\learner.cc:767: \n",
      "Parameters: { \"n_estimator\" } are not used.\n",
      "\n",
      "[CV] END ........................max_depth=2, n_estimator=40; total time=   0.5s\n",
      "[19:30:39] WARNING: C:\\buildkite-agent\\builds\\buildkite-windows-cpu-autoscaling-group-i-0fdc6d574b9c0d168-1\\xgboost\\xgboost-ci-windows\\src\\learner.cc:767: \n",
      "Parameters: { \"n_estimator\" } are not used.\n",
      "\n",
      "[CV] END ........................max_depth=2, n_estimator=40; total time=   0.4s\n",
      "[19:30:39] WARNING: C:\\buildkite-agent\\builds\\buildkite-windows-cpu-autoscaling-group-i-0fdc6d574b9c0d168-1\\xgboost\\xgboost-ci-windows\\src\\learner.cc:767: \n",
      "Parameters: { \"n_estimator\" } are not used.\n",
      "\n",
      "[CV] END ........................max_depth=2, n_estimator=40; total time=   0.5s\n",
      "[19:30:40] WARNING: C:\\buildkite-agent\\builds\\buildkite-windows-cpu-autoscaling-group-i-0fdc6d574b9c0d168-1\\xgboost\\xgboost-ci-windows\\src\\learner.cc:767: \n",
      "Parameters: { \"n_estimator\" } are not used.\n",
      "\n",
      "[CV] END ........................max_depth=2, n_estimator=40; total time=   0.5s\n",
      "[19:30:40] WARNING: C:\\buildkite-agent\\builds\\buildkite-windows-cpu-autoscaling-group-i-0fdc6d574b9c0d168-1\\xgboost\\xgboost-ci-windows\\src\\learner.cc:767: \n",
      "Parameters: { \"n_estimator\" } are not used.\n",
      "\n",
      "[CV] END ........................max_depth=3, n_estimator=20; total time=   0.5s\n",
      "[19:30:41] WARNING: C:\\buildkite-agent\\builds\\buildkite-windows-cpu-autoscaling-group-i-0fdc6d574b9c0d168-1\\xgboost\\xgboost-ci-windows\\src\\learner.cc:767: \n",
      "Parameters: { \"n_estimator\" } are not used.\n",
      "\n",
      "[CV] END ........................max_depth=3, n_estimator=20; total time=   0.6s\n",
      "[19:30:42] WARNING: C:\\buildkite-agent\\builds\\buildkite-windows-cpu-autoscaling-group-i-0fdc6d574b9c0d168-1\\xgboost\\xgboost-ci-windows\\src\\learner.cc:767: \n",
      "Parameters: { \"n_estimator\" } are not used.\n",
      "\n",
      "[CV] END ........................max_depth=3, n_estimator=20; total time=   0.6s\n",
      "[19:30:42] WARNING: C:\\buildkite-agent\\builds\\buildkite-windows-cpu-autoscaling-group-i-0fdc6d574b9c0d168-1\\xgboost\\xgboost-ci-windows\\src\\learner.cc:767: \n",
      "Parameters: { \"n_estimator\" } are not used.\n",
      "\n",
      "[CV] END ........................max_depth=3, n_estimator=20; total time=   0.8s\n",
      "[19:30:43] WARNING: C:\\buildkite-agent\\builds\\buildkite-windows-cpu-autoscaling-group-i-0fdc6d574b9c0d168-1\\xgboost\\xgboost-ci-windows\\src\\learner.cc:767: \n",
      "Parameters: { \"n_estimator\" } are not used.\n",
      "\n",
      "[CV] END ........................max_depth=3, n_estimator=20; total time=   1.1s\n",
      "[19:30:44] WARNING: C:\\buildkite-agent\\builds\\buildkite-windows-cpu-autoscaling-group-i-0fdc6d574b9c0d168-1\\xgboost\\xgboost-ci-windows\\src\\learner.cc:767: \n",
      "Parameters: { \"n_estimator\" } are not used.\n",
      "\n",
      "[CV] END ........................max_depth=3, n_estimator=40; total time=   0.8s\n",
      "[19:30:45] WARNING: C:\\buildkite-agent\\builds\\buildkite-windows-cpu-autoscaling-group-i-0fdc6d574b9c0d168-1\\xgboost\\xgboost-ci-windows\\src\\learner.cc:767: \n",
      "Parameters: { \"n_estimator\" } are not used.\n",
      "\n",
      "[CV] END ........................max_depth=3, n_estimator=40; total time=   0.8s\n",
      "[19:30:46] WARNING: C:\\buildkite-agent\\builds\\buildkite-windows-cpu-autoscaling-group-i-0fdc6d574b9c0d168-1\\xgboost\\xgboost-ci-windows\\src\\learner.cc:767: \n",
      "Parameters: { \"n_estimator\" } are not used.\n",
      "\n",
      "[CV] END ........................max_depth=3, n_estimator=40; total time=   0.8s\n",
      "[19:30:47] WARNING: C:\\buildkite-agent\\builds\\buildkite-windows-cpu-autoscaling-group-i-0fdc6d574b9c0d168-1\\xgboost\\xgboost-ci-windows\\src\\learner.cc:767: \n",
      "Parameters: { \"n_estimator\" } are not used.\n",
      "\n",
      "[CV] END ........................max_depth=3, n_estimator=40; total time=   0.6s\n",
      "[19:30:48] WARNING: C:\\buildkite-agent\\builds\\buildkite-windows-cpu-autoscaling-group-i-0fdc6d574b9c0d168-1\\xgboost\\xgboost-ci-windows\\src\\learner.cc:767: \n",
      "Parameters: { \"n_estimator\" } are not used.\n",
      "\n",
      "[CV] END ........................max_depth=3, n_estimator=40; total time=   0.6s\n",
      "[19:30:49] WARNING: C:\\buildkite-agent\\builds\\buildkite-windows-cpu-autoscaling-group-i-0fdc6d574b9c0d168-1\\xgboost\\xgboost-ci-windows\\src\\learner.cc:767: \n",
      "Parameters: { \"n_estimator\" } are not used.\n",
      "\n",
      "[CV] END ........................max_depth=4, n_estimator=20; total time=   0.9s\n",
      "[19:30:50] WARNING: C:\\buildkite-agent\\builds\\buildkite-windows-cpu-autoscaling-group-i-0fdc6d574b9c0d168-1\\xgboost\\xgboost-ci-windows\\src\\learner.cc:767: \n",
      "Parameters: { \"n_estimator\" } are not used.\n",
      "\n",
      "[CV] END ........................max_depth=4, n_estimator=20; total time=   0.9s\n",
      "[19:30:51] WARNING: C:\\buildkite-agent\\builds\\buildkite-windows-cpu-autoscaling-group-i-0fdc6d574b9c0d168-1\\xgboost\\xgboost-ci-windows\\src\\learner.cc:767: \n",
      "Parameters: { \"n_estimator\" } are not used.\n",
      "\n",
      "[CV] END ........................max_depth=4, n_estimator=20; total time=   0.9s\n",
      "[19:30:52] WARNING: C:\\buildkite-agent\\builds\\buildkite-windows-cpu-autoscaling-group-i-0fdc6d574b9c0d168-1\\xgboost\\xgboost-ci-windows\\src\\learner.cc:767: \n",
      "Parameters: { \"n_estimator\" } are not used.\n",
      "\n",
      "[CV] END ........................max_depth=4, n_estimator=20; total time=   0.9s\n",
      "[19:30:53] WARNING: C:\\buildkite-agent\\builds\\buildkite-windows-cpu-autoscaling-group-i-0fdc6d574b9c0d168-1\\xgboost\\xgboost-ci-windows\\src\\learner.cc:767: \n",
      "Parameters: { \"n_estimator\" } are not used.\n",
      "\n",
      "[CV] END ........................max_depth=4, n_estimator=20; total time=   0.9s\n",
      "[19:30:54] WARNING: C:\\buildkite-agent\\builds\\buildkite-windows-cpu-autoscaling-group-i-0fdc6d574b9c0d168-1\\xgboost\\xgboost-ci-windows\\src\\learner.cc:767: \n",
      "Parameters: { \"n_estimator\" } are not used.\n",
      "\n",
      "[CV] END ........................max_depth=4, n_estimator=40; total time=   0.9s\n",
      "[19:30:55] WARNING: C:\\buildkite-agent\\builds\\buildkite-windows-cpu-autoscaling-group-i-0fdc6d574b9c0d168-1\\xgboost\\xgboost-ci-windows\\src\\learner.cc:767: \n",
      "Parameters: { \"n_estimator\" } are not used.\n",
      "\n",
      "[CV] END ........................max_depth=4, n_estimator=40; total time=   0.9s\n",
      "[19:30:56] WARNING: C:\\buildkite-agent\\builds\\buildkite-windows-cpu-autoscaling-group-i-0fdc6d574b9c0d168-1\\xgboost\\xgboost-ci-windows\\src\\learner.cc:767: \n",
      "Parameters: { \"n_estimator\" } are not used.\n",
      "\n",
      "[CV] END ........................max_depth=4, n_estimator=40; total time=   0.9s\n",
      "[19:30:57] WARNING: C:\\buildkite-agent\\builds\\buildkite-windows-cpu-autoscaling-group-i-0fdc6d574b9c0d168-1\\xgboost\\xgboost-ci-windows\\src\\learner.cc:767: \n",
      "Parameters: { \"n_estimator\" } are not used.\n",
      "\n",
      "[CV] END ........................max_depth=4, n_estimator=40; total time=   1.1s\n",
      "[19:30:58] WARNING: C:\\buildkite-agent\\builds\\buildkite-windows-cpu-autoscaling-group-i-0fdc6d574b9c0d168-1\\xgboost\\xgboost-ci-windows\\src\\learner.cc:767: \n",
      "Parameters: { \"n_estimator\" } are not used.\n",
      "\n"
     ]
    },
    {
     "name": "stdout",
     "output_type": "stream",
     "text": [
      "[CV] END ........................max_depth=4, n_estimator=40; total time=   0.8s\n",
      "[19:30:59] WARNING: C:\\buildkite-agent\\builds\\buildkite-windows-cpu-autoscaling-group-i-0fdc6d574b9c0d168-1\\xgboost\\xgboost-ci-windows\\src\\learner.cc:767: \n",
      "Parameters: { \"n_estimator\" } are not used.\n",
      "\n",
      "[CV] END ........................max_depth=5, n_estimator=20; total time=   1.3s\n",
      "[19:31:00] WARNING: C:\\buildkite-agent\\builds\\buildkite-windows-cpu-autoscaling-group-i-0fdc6d574b9c0d168-1\\xgboost\\xgboost-ci-windows\\src\\learner.cc:767: \n",
      "Parameters: { \"n_estimator\" } are not used.\n",
      "\n",
      "[CV] END ........................max_depth=5, n_estimator=20; total time=   1.4s\n",
      "[19:31:02] WARNING: C:\\buildkite-agent\\builds\\buildkite-windows-cpu-autoscaling-group-i-0fdc6d574b9c0d168-1\\xgboost\\xgboost-ci-windows\\src\\learner.cc:767: \n",
      "Parameters: { \"n_estimator\" } are not used.\n",
      "\n",
      "[CV] END ........................max_depth=5, n_estimator=20; total time=   1.1s\n",
      "[19:31:03] WARNING: C:\\buildkite-agent\\builds\\buildkite-windows-cpu-autoscaling-group-i-0fdc6d574b9c0d168-1\\xgboost\\xgboost-ci-windows\\src\\learner.cc:767: \n",
      "Parameters: { \"n_estimator\" } are not used.\n",
      "\n",
      "[CV] END ........................max_depth=5, n_estimator=20; total time=   1.2s\n",
      "[19:31:04] WARNING: C:\\buildkite-agent\\builds\\buildkite-windows-cpu-autoscaling-group-i-0fdc6d574b9c0d168-1\\xgboost\\xgboost-ci-windows\\src\\learner.cc:767: \n",
      "Parameters: { \"n_estimator\" } are not used.\n",
      "\n",
      "[CV] END ........................max_depth=5, n_estimator=20; total time=   1.2s\n",
      "[19:31:06] WARNING: C:\\buildkite-agent\\builds\\buildkite-windows-cpu-autoscaling-group-i-0fdc6d574b9c0d168-1\\xgboost\\xgboost-ci-windows\\src\\learner.cc:767: \n",
      "Parameters: { \"n_estimator\" } are not used.\n",
      "\n",
      "[CV] END ........................max_depth=5, n_estimator=40; total time=   1.0s\n",
      "[19:31:07] WARNING: C:\\buildkite-agent\\builds\\buildkite-windows-cpu-autoscaling-group-i-0fdc6d574b9c0d168-1\\xgboost\\xgboost-ci-windows\\src\\learner.cc:767: \n",
      "Parameters: { \"n_estimator\" } are not used.\n",
      "\n",
      "[CV] END ........................max_depth=5, n_estimator=40; total time=   1.0s\n",
      "[19:31:08] WARNING: C:\\buildkite-agent\\builds\\buildkite-windows-cpu-autoscaling-group-i-0fdc6d574b9c0d168-1\\xgboost\\xgboost-ci-windows\\src\\learner.cc:767: \n",
      "Parameters: { \"n_estimator\" } are not used.\n",
      "\n",
      "[CV] END ........................max_depth=5, n_estimator=40; total time=   1.0s\n",
      "[19:31:09] WARNING: C:\\buildkite-agent\\builds\\buildkite-windows-cpu-autoscaling-group-i-0fdc6d574b9c0d168-1\\xgboost\\xgboost-ci-windows\\src\\learner.cc:767: \n",
      "Parameters: { \"n_estimator\" } are not used.\n",
      "\n",
      "[CV] END ........................max_depth=5, n_estimator=40; total time=   1.0s\n",
      "[19:31:10] WARNING: C:\\buildkite-agent\\builds\\buildkite-windows-cpu-autoscaling-group-i-0fdc6d574b9c0d168-1\\xgboost\\xgboost-ci-windows\\src\\learner.cc:767: \n",
      "Parameters: { \"n_estimator\" } are not used.\n",
      "\n",
      "[CV] END ........................max_depth=5, n_estimator=40; total time=   1.0s\n",
      "[19:31:11] WARNING: C:\\buildkite-agent\\builds\\buildkite-windows-cpu-autoscaling-group-i-0fdc6d574b9c0d168-1\\xgboost\\xgboost-ci-windows\\src\\learner.cc:767: \n",
      "Parameters: { \"n_estimator\" } are not used.\n",
      "\n"
     ]
    },
    {
     "data": {
      "text/html": [
       "<style>#sk-container-id-8 {color: black;background-color: white;}#sk-container-id-8 pre{padding: 0;}#sk-container-id-8 div.sk-toggleable {background-color: white;}#sk-container-id-8 label.sk-toggleable__label {cursor: pointer;display: block;width: 100%;margin-bottom: 0;padding: 0.3em;box-sizing: border-box;text-align: center;}#sk-container-id-8 label.sk-toggleable__label-arrow:before {content: \"▸\";float: left;margin-right: 0.25em;color: #696969;}#sk-container-id-8 label.sk-toggleable__label-arrow:hover:before {color: black;}#sk-container-id-8 div.sk-estimator:hover label.sk-toggleable__label-arrow:before {color: black;}#sk-container-id-8 div.sk-toggleable__content {max-height: 0;max-width: 0;overflow: hidden;text-align: left;background-color: #f0f8ff;}#sk-container-id-8 div.sk-toggleable__content pre {margin: 0.2em;color: black;border-radius: 0.25em;background-color: #f0f8ff;}#sk-container-id-8 input.sk-toggleable__control:checked~div.sk-toggleable__content {max-height: 200px;max-width: 100%;overflow: auto;}#sk-container-id-8 input.sk-toggleable__control:checked~label.sk-toggleable__label-arrow:before {content: \"▾\";}#sk-container-id-8 div.sk-estimator input.sk-toggleable__control:checked~label.sk-toggleable__label {background-color: #d4ebff;}#sk-container-id-8 div.sk-label input.sk-toggleable__control:checked~label.sk-toggleable__label {background-color: #d4ebff;}#sk-container-id-8 input.sk-hidden--visually {border: 0;clip: rect(1px 1px 1px 1px);clip: rect(1px, 1px, 1px, 1px);height: 1px;margin: -1px;overflow: hidden;padding: 0;position: absolute;width: 1px;}#sk-container-id-8 div.sk-estimator {font-family: monospace;background-color: #f0f8ff;border: 1px dotted black;border-radius: 0.25em;box-sizing: border-box;margin-bottom: 0.5em;}#sk-container-id-8 div.sk-estimator:hover {background-color: #d4ebff;}#sk-container-id-8 div.sk-parallel-item::after {content: \"\";width: 100%;border-bottom: 1px solid gray;flex-grow: 1;}#sk-container-id-8 div.sk-label:hover label.sk-toggleable__label {background-color: #d4ebff;}#sk-container-id-8 div.sk-serial::before {content: \"\";position: absolute;border-left: 1px solid gray;box-sizing: border-box;top: 0;bottom: 0;left: 50%;z-index: 0;}#sk-container-id-8 div.sk-serial {display: flex;flex-direction: column;align-items: center;background-color: white;padding-right: 0.2em;padding-left: 0.2em;position: relative;}#sk-container-id-8 div.sk-item {position: relative;z-index: 1;}#sk-container-id-8 div.sk-parallel {display: flex;align-items: stretch;justify-content: center;background-color: white;position: relative;}#sk-container-id-8 div.sk-item::before, #sk-container-id-8 div.sk-parallel-item::before {content: \"\";position: absolute;border-left: 1px solid gray;box-sizing: border-box;top: 0;bottom: 0;left: 50%;z-index: -1;}#sk-container-id-8 div.sk-parallel-item {display: flex;flex-direction: column;z-index: 1;position: relative;background-color: white;}#sk-container-id-8 div.sk-parallel-item:first-child::after {align-self: flex-end;width: 50%;}#sk-container-id-8 div.sk-parallel-item:last-child::after {align-self: flex-start;width: 50%;}#sk-container-id-8 div.sk-parallel-item:only-child::after {width: 0;}#sk-container-id-8 div.sk-dashed-wrapped {border: 1px dashed gray;margin: 0 0.4em 0.5em 0.4em;box-sizing: border-box;padding-bottom: 0.4em;background-color: white;}#sk-container-id-8 div.sk-label label {font-family: monospace;font-weight: bold;display: inline-block;line-height: 1.2em;}#sk-container-id-8 div.sk-label-container {text-align: center;}#sk-container-id-8 div.sk-container {/* jupyter's `normalize.less` sets `[hidden] { display: none; }` but bootstrap.min.css set `[hidden] { display: none !important; }` so we also need the `!important` here to be able to override the default hidden behavior on the sphinx rendered scikit-learn.org. See: https://github.com/scikit-learn/scikit-learn/issues/21755 */display: inline-block !important;position: relative;}#sk-container-id-8 div.sk-text-repr-fallback {display: none;}</style><div id=\"sk-container-id-8\" class=\"sk-top-container\"><div class=\"sk-text-repr-fallback\"><pre>RandomizedSearchCV(estimator=XGBClassifier(base_score=None, booster=None,\n",
       "                                           callbacks=None,\n",
       "                                           colsample_bylevel=None,\n",
       "                                           colsample_bynode=None,\n",
       "                                           colsample_bytree=None,\n",
       "                                           early_stopping_rounds=None,\n",
       "                                           enable_categorical=False,\n",
       "                                           eval_metric=None, feature_types=None,\n",
       "                                           gamma=None, gpu_id=None,\n",
       "                                           grow_policy=None,\n",
       "                                           importance_type=None,\n",
       "                                           interaction_constraints=None,\n",
       "                                           learning_rate=None, max_bin=None,\n",
       "                                           max_cat_threshold=None,\n",
       "                                           max_cat_to_onehot=None,\n",
       "                                           max_delta_step=None, max_depth=None,\n",
       "                                           max_leaves=None,\n",
       "                                           min_child_weight=None, missing=nan,\n",
       "                                           monotone_constraints=None,\n",
       "                                           n_estimators=100, n_jobs=None,\n",
       "                                           num_parallel_tree=None,\n",
       "                                           predictor=None, random_state=None, ...),\n",
       "                   param_distributions={&#x27;max_depth&#x27;: [2, 3, 4, 5],\n",
       "                                        &#x27;n_estimator&#x27;: [20, 40]},\n",
       "                   verbose=2)</pre><b>In a Jupyter environment, please rerun this cell to show the HTML representation or trust the notebook. <br />On GitHub, the HTML representation is unable to render, please try loading this page with nbviewer.org.</b></div><div class=\"sk-container\" hidden><div class=\"sk-item sk-dashed-wrapped\"><div class=\"sk-label-container\"><div class=\"sk-label sk-toggleable\"><input class=\"sk-toggleable__control sk-hidden--visually\" id=\"sk-estimator-id-8\" type=\"checkbox\" ><label for=\"sk-estimator-id-8\" class=\"sk-toggleable__label sk-toggleable__label-arrow\">RandomizedSearchCV</label><div class=\"sk-toggleable__content\"><pre>RandomizedSearchCV(estimator=XGBClassifier(base_score=None, booster=None,\n",
       "                                           callbacks=None,\n",
       "                                           colsample_bylevel=None,\n",
       "                                           colsample_bynode=None,\n",
       "                                           colsample_bytree=None,\n",
       "                                           early_stopping_rounds=None,\n",
       "                                           enable_categorical=False,\n",
       "                                           eval_metric=None, feature_types=None,\n",
       "                                           gamma=None, gpu_id=None,\n",
       "                                           grow_policy=None,\n",
       "                                           importance_type=None,\n",
       "                                           interaction_constraints=None,\n",
       "                                           learning_rate=None, max_bin=None,\n",
       "                                           max_cat_threshold=None,\n",
       "                                           max_cat_to_onehot=None,\n",
       "                                           max_delta_step=None, max_depth=None,\n",
       "                                           max_leaves=None,\n",
       "                                           min_child_weight=None, missing=nan,\n",
       "                                           monotone_constraints=None,\n",
       "                                           n_estimators=100, n_jobs=None,\n",
       "                                           num_parallel_tree=None,\n",
       "                                           predictor=None, random_state=None, ...),\n",
       "                   param_distributions={&#x27;max_depth&#x27;: [2, 3, 4, 5],\n",
       "                                        &#x27;n_estimator&#x27;: [20, 40]},\n",
       "                   verbose=2)</pre></div></div></div><div class=\"sk-parallel\"><div class=\"sk-parallel-item\"><div class=\"sk-item\"><div class=\"sk-label-container\"><div class=\"sk-label sk-toggleable\"><input class=\"sk-toggleable__control sk-hidden--visually\" id=\"sk-estimator-id-9\" type=\"checkbox\" ><label for=\"sk-estimator-id-9\" class=\"sk-toggleable__label sk-toggleable__label-arrow\">estimator: XGBClassifier</label><div class=\"sk-toggleable__content\"><pre>XGBClassifier(base_score=None, booster=None, callbacks=None,\n",
       "              colsample_bylevel=None, colsample_bynode=None,\n",
       "              colsample_bytree=None, early_stopping_rounds=None,\n",
       "              enable_categorical=False, eval_metric=None, feature_types=None,\n",
       "              gamma=None, gpu_id=None, grow_policy=None, importance_type=None,\n",
       "              interaction_constraints=None, learning_rate=None, max_bin=None,\n",
       "              max_cat_threshold=None, max_cat_to_onehot=None,\n",
       "              max_delta_step=None, max_depth=None, max_leaves=None,\n",
       "              min_child_weight=None, missing=nan, monotone_constraints=None,\n",
       "              n_estimators=100, n_jobs=None, num_parallel_tree=None,\n",
       "              predictor=None, random_state=None, ...)</pre></div></div></div><div class=\"sk-serial\"><div class=\"sk-item\"><div class=\"sk-estimator sk-toggleable\"><input class=\"sk-toggleable__control sk-hidden--visually\" id=\"sk-estimator-id-10\" type=\"checkbox\" ><label for=\"sk-estimator-id-10\" class=\"sk-toggleable__label sk-toggleable__label-arrow\">XGBClassifier</label><div class=\"sk-toggleable__content\"><pre>XGBClassifier(base_score=None, booster=None, callbacks=None,\n",
       "              colsample_bylevel=None, colsample_bynode=None,\n",
       "              colsample_bytree=None, early_stopping_rounds=None,\n",
       "              enable_categorical=False, eval_metric=None, feature_types=None,\n",
       "              gamma=None, gpu_id=None, grow_policy=None, importance_type=None,\n",
       "              interaction_constraints=None, learning_rate=None, max_bin=None,\n",
       "              max_cat_threshold=None, max_cat_to_onehot=None,\n",
       "              max_delta_step=None, max_depth=None, max_leaves=None,\n",
       "              min_child_weight=None, missing=nan, monotone_constraints=None,\n",
       "              n_estimators=100, n_jobs=None, num_parallel_tree=None,\n",
       "              predictor=None, random_state=None, ...)</pre></div></div></div></div></div></div></div></div></div></div>"
      ],
      "text/plain": [
       "RandomizedSearchCV(estimator=XGBClassifier(base_score=None, booster=None,\n",
       "                                           callbacks=None,\n",
       "                                           colsample_bylevel=None,\n",
       "                                           colsample_bynode=None,\n",
       "                                           colsample_bytree=None,\n",
       "                                           early_stopping_rounds=None,\n",
       "                                           enable_categorical=False,\n",
       "                                           eval_metric=None, feature_types=None,\n",
       "                                           gamma=None, gpu_id=None,\n",
       "                                           grow_policy=None,\n",
       "                                           importance_type=None,\n",
       "                                           interaction_constraints=None,\n",
       "                                           learning_rate=None, max_bin=None,\n",
       "                                           max_cat_threshold=None,\n",
       "                                           max_cat_to_onehot=None,\n",
       "                                           max_delta_step=None, max_depth=None,\n",
       "                                           max_leaves=None,\n",
       "                                           min_child_weight=None, missing=nan,\n",
       "                                           monotone_constraints=None,\n",
       "                                           n_estimators=100, n_jobs=None,\n",
       "                                           num_parallel_tree=None,\n",
       "                                           predictor=None, random_state=None, ...),\n",
       "                   param_distributions={'max_depth': [2, 3, 4, 5],\n",
       "                                        'n_estimator': [20, 40]},\n",
       "                   verbose=2)"
      ]
     },
     "execution_count": 205,
     "metadata": {},
     "output_type": "execute_result"
    }
   ],
   "source": [
    "grid.fit(x_train,y_train)"
   ]
  },
  {
   "cell_type": "code",
   "execution_count": 207,
   "id": "9023d126",
   "metadata": {},
   "outputs": [
    {
     "data": {
      "text/plain": [
       "{'n_estimator': 20, 'max_depth': 2}"
      ]
     },
     "execution_count": 207,
     "metadata": {},
     "output_type": "execute_result"
    }
   ],
   "source": [
    "grid.best_params_"
   ]
  },
  {
   "cell_type": "code",
   "execution_count": 210,
   "id": "b3658b4b",
   "metadata": {},
   "outputs": [
    {
     "name": "stdout",
     "output_type": "stream",
     "text": [
      "[19:34:00] WARNING: C:\\buildkite-agent\\builds\\buildkite-windows-cpu-autoscaling-group-i-0fdc6d574b9c0d168-1\\xgboost\\xgboost-ci-windows\\src\\learner.cc:767: \n",
      "Parameters: { \"n_estimator\" } are not used.\n",
      "\n"
     ]
    },
    {
     "data": {
      "text/html": [
       "<style>#sk-container-id-9 {color: black;background-color: white;}#sk-container-id-9 pre{padding: 0;}#sk-container-id-9 div.sk-toggleable {background-color: white;}#sk-container-id-9 label.sk-toggleable__label {cursor: pointer;display: block;width: 100%;margin-bottom: 0;padding: 0.3em;box-sizing: border-box;text-align: center;}#sk-container-id-9 label.sk-toggleable__label-arrow:before {content: \"▸\";float: left;margin-right: 0.25em;color: #696969;}#sk-container-id-9 label.sk-toggleable__label-arrow:hover:before {color: black;}#sk-container-id-9 div.sk-estimator:hover label.sk-toggleable__label-arrow:before {color: black;}#sk-container-id-9 div.sk-toggleable__content {max-height: 0;max-width: 0;overflow: hidden;text-align: left;background-color: #f0f8ff;}#sk-container-id-9 div.sk-toggleable__content pre {margin: 0.2em;color: black;border-radius: 0.25em;background-color: #f0f8ff;}#sk-container-id-9 input.sk-toggleable__control:checked~div.sk-toggleable__content {max-height: 200px;max-width: 100%;overflow: auto;}#sk-container-id-9 input.sk-toggleable__control:checked~label.sk-toggleable__label-arrow:before {content: \"▾\";}#sk-container-id-9 div.sk-estimator input.sk-toggleable__control:checked~label.sk-toggleable__label {background-color: #d4ebff;}#sk-container-id-9 div.sk-label input.sk-toggleable__control:checked~label.sk-toggleable__label {background-color: #d4ebff;}#sk-container-id-9 input.sk-hidden--visually {border: 0;clip: rect(1px 1px 1px 1px);clip: rect(1px, 1px, 1px, 1px);height: 1px;margin: -1px;overflow: hidden;padding: 0;position: absolute;width: 1px;}#sk-container-id-9 div.sk-estimator {font-family: monospace;background-color: #f0f8ff;border: 1px dotted black;border-radius: 0.25em;box-sizing: border-box;margin-bottom: 0.5em;}#sk-container-id-9 div.sk-estimator:hover {background-color: #d4ebff;}#sk-container-id-9 div.sk-parallel-item::after {content: \"\";width: 100%;border-bottom: 1px solid gray;flex-grow: 1;}#sk-container-id-9 div.sk-label:hover label.sk-toggleable__label {background-color: #d4ebff;}#sk-container-id-9 div.sk-serial::before {content: \"\";position: absolute;border-left: 1px solid gray;box-sizing: border-box;top: 0;bottom: 0;left: 50%;z-index: 0;}#sk-container-id-9 div.sk-serial {display: flex;flex-direction: column;align-items: center;background-color: white;padding-right: 0.2em;padding-left: 0.2em;position: relative;}#sk-container-id-9 div.sk-item {position: relative;z-index: 1;}#sk-container-id-9 div.sk-parallel {display: flex;align-items: stretch;justify-content: center;background-color: white;position: relative;}#sk-container-id-9 div.sk-item::before, #sk-container-id-9 div.sk-parallel-item::before {content: \"\";position: absolute;border-left: 1px solid gray;box-sizing: border-box;top: 0;bottom: 0;left: 50%;z-index: -1;}#sk-container-id-9 div.sk-parallel-item {display: flex;flex-direction: column;z-index: 1;position: relative;background-color: white;}#sk-container-id-9 div.sk-parallel-item:first-child::after {align-self: flex-end;width: 50%;}#sk-container-id-9 div.sk-parallel-item:last-child::after {align-self: flex-start;width: 50%;}#sk-container-id-9 div.sk-parallel-item:only-child::after {width: 0;}#sk-container-id-9 div.sk-dashed-wrapped {border: 1px dashed gray;margin: 0 0.4em 0.5em 0.4em;box-sizing: border-box;padding-bottom: 0.4em;background-color: white;}#sk-container-id-9 div.sk-label label {font-family: monospace;font-weight: bold;display: inline-block;line-height: 1.2em;}#sk-container-id-9 div.sk-label-container {text-align: center;}#sk-container-id-9 div.sk-container {/* jupyter's `normalize.less` sets `[hidden] { display: none; }` but bootstrap.min.css set `[hidden] { display: none !important; }` so we also need the `!important` here to be able to override the default hidden behavior on the sphinx rendered scikit-learn.org. See: https://github.com/scikit-learn/scikit-learn/issues/21755 */display: inline-block !important;position: relative;}#sk-container-id-9 div.sk-text-repr-fallback {display: none;}</style><div id=\"sk-container-id-9\" class=\"sk-top-container\"><div class=\"sk-text-repr-fallback\"><pre>XGBClassifier(base_score=None, booster=None, callbacks=None,\n",
       "              colsample_bylevel=None, colsample_bynode=None,\n",
       "              colsample_bytree=None, early_stopping_rounds=None,\n",
       "              enable_categorical=False, eval_metric=None, feature_types=None,\n",
       "              gamma=None, gpu_id=None, grow_policy=None, importance_type=None,\n",
       "              interaction_constraints=None, learning_rate=None, max_bin=None,\n",
       "              max_cat_threshold=None, max_cat_to_onehot=None,\n",
       "              max_delta_step=None, max_depth=2, max_leaves=None,\n",
       "              min_child_weight=None, missing=nan, monotone_constraints=None,\n",
       "              n_estimator=20, n_estimators=100, n_jobs=None,\n",
       "              num_parallel_tree=None, predictor=None, ...)</pre><b>In a Jupyter environment, please rerun this cell to show the HTML representation or trust the notebook. <br />On GitHub, the HTML representation is unable to render, please try loading this page with nbviewer.org.</b></div><div class=\"sk-container\" hidden><div class=\"sk-item\"><div class=\"sk-estimator sk-toggleable\"><input class=\"sk-toggleable__control sk-hidden--visually\" id=\"sk-estimator-id-11\" type=\"checkbox\" checked><label for=\"sk-estimator-id-11\" class=\"sk-toggleable__label sk-toggleable__label-arrow\">XGBClassifier</label><div class=\"sk-toggleable__content\"><pre>XGBClassifier(base_score=None, booster=None, callbacks=None,\n",
       "              colsample_bylevel=None, colsample_bynode=None,\n",
       "              colsample_bytree=None, early_stopping_rounds=None,\n",
       "              enable_categorical=False, eval_metric=None, feature_types=None,\n",
       "              gamma=None, gpu_id=None, grow_policy=None, importance_type=None,\n",
       "              interaction_constraints=None, learning_rate=None, max_bin=None,\n",
       "              max_cat_threshold=None, max_cat_to_onehot=None,\n",
       "              max_delta_step=None, max_depth=2, max_leaves=None,\n",
       "              min_child_weight=None, missing=nan, monotone_constraints=None,\n",
       "              n_estimator=20, n_estimators=100, n_jobs=None,\n",
       "              num_parallel_tree=None, predictor=None, ...)</pre></div></div></div></div></div>"
      ],
      "text/plain": [
       "XGBClassifier(base_score=None, booster=None, callbacks=None,\n",
       "              colsample_bylevel=None, colsample_bynode=None,\n",
       "              colsample_bytree=None, early_stopping_rounds=None,\n",
       "              enable_categorical=False, eval_metric=None, feature_types=None,\n",
       "              gamma=None, gpu_id=None, grow_policy=None, importance_type=None,\n",
       "              interaction_constraints=None, learning_rate=None, max_bin=None,\n",
       "              max_cat_threshold=None, max_cat_to_onehot=None,\n",
       "              max_delta_step=None, max_depth=2, max_leaves=None,\n",
       "              min_child_weight=None, missing=nan, monotone_constraints=None,\n",
       "              n_estimator=20, n_estimators=100, n_jobs=None,\n",
       "              num_parallel_tree=None, predictor=None, ...)"
      ]
     },
     "execution_count": 210,
     "metadata": {},
     "output_type": "execute_result"
    }
   ],
   "source": [
    "xg = XGBClassifier(n_estimator= 20, max_depth= 2)\n",
    "xg.fit(x_train,y_train)"
   ]
  },
  {
   "cell_type": "code",
   "execution_count": 211,
   "id": "5909ad29",
   "metadata": {},
   "outputs": [
    {
     "name": "stdout",
     "output_type": "stream",
     "text": [
      "Testing accuracy is :  0.49805\n"
     ]
    }
   ],
   "source": [
    "print(\"Testing accuracy is : \", xg.score(x_test,y_test))"
   ]
  },
  {
   "cell_type": "markdown",
   "id": "23a8d27c",
   "metadata": {},
   "source": [
    "# Save Model"
   ]
  },
  {
   "cell_type": "code",
   "execution_count": 213,
   "id": "7082c47d",
   "metadata": {},
   "outputs": [],
   "source": [
    "import pickle \n",
    "file = 'xgboost_model.pkl'\n",
    "pickle.dump(xg, open(file ,'wb'))"
   ]
  },
  {
   "cell_type": "code",
   "execution_count": 214,
   "id": "0dbac6b3",
   "metadata": {},
   "outputs": [],
   "source": [
    "load_model = pickle.load(open(file ,'rb'))"
   ]
  },
  {
   "cell_type": "code",
   "execution_count": 215,
   "id": "8743a0bb",
   "metadata": {},
   "outputs": [],
   "source": [
    "y_prep =  load_model.predict(x_test)"
   ]
  },
  {
   "cell_type": "code",
   "execution_count": 216,
   "id": "4b68de0d",
   "metadata": {},
   "outputs": [
    {
     "data": {
      "text/plain": [
       "array([1, 0, 0, ..., 0, 0, 1])"
      ]
     },
     "execution_count": 216,
     "metadata": {},
     "output_type": "execute_result"
    }
   ],
   "source": [
    "y_prep"
   ]
  },
  {
   "cell_type": "code",
   "execution_count": null,
   "id": "c6f21c3c",
   "metadata": {},
   "outputs": [],
   "source": []
  }
 ],
 "metadata": {
  "kernelspec": {
   "display_name": "Python 3 (ipykernel)",
   "language": "python",
   "name": "python3"
  },
  "language_info": {
   "codemirror_mode": {
    "name": "ipython",
    "version": 3
   },
   "file_extension": ".py",
   "mimetype": "text/x-python",
   "name": "python",
   "nbconvert_exporter": "python",
   "pygments_lexer": "ipython3",
   "version": "3.11.3"
  }
 },
 "nbformat": 4,
 "nbformat_minor": 5
}
